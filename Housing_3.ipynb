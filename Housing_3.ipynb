{
 "cells": [
  {
   "cell_type": "markdown",
   "metadata": {},
   "source": [
    "## Housing Project: Advanced Regression Techniques"
   ]
  },
  {
   "cell_type": "markdown",
   "metadata": {},
   "source": [
    "#### In this supervised learning project, I will employ feature engineering and various regression techniques in order to predict housing prices. "
   ]
  },
  {
   "cell_type": "markdown",
   "metadata": {},
   "source": [
    "#### First, I load the necessary libraries and examine the data:"
   ]
  },
  {
   "cell_type": "code",
   "execution_count": 2,
   "metadata": {},
   "outputs": [],
   "source": [
    "import numpy as np\n",
    "import pandas as pd\n",
    "import matplotlib.pyplot as plt\n",
    "import seaborn as sns\n",
    "\n",
    "from scipy.stats import skewtest\n",
    "from statsmodels.stats.outliers_influence import OLSInfluence\n",
    "from statsmodels.stats.outliers_influence import variance_inflation_factor\n",
    "import statsmodels.api as sm\n",
    "\n",
    "from sklearn.model_selection import GridSearchCV\n",
    "from sklearn.preprocessing import StandardScaler\n",
    "from sklearn.preprocessing import MinMaxScaler\n",
    "from sklearn.pipeline import make_pipeline\n",
    "\n",
    "from sklearn.ensemble import RandomForestRegressor\n",
    "from xgboost import XGBRegressor\n",
    "from catboost import CatBoostRegressor\n",
    "\n",
    "from sklearn.linear_model import LinearRegression\n",
    "from sklearn.linear_model import RidgeCV\n",
    "from sklearn.ensemble import StackingRegressor\n",
    "\n",
    "from sklearn.metrics import mean_squared_log_error\n",
    "from sklearn.metrics import mean_squared_error\n",
    "\n",
    "from sklearn.metrics import r2_score\n",
    "\n",
    "from sklearn.model_selection import train_test_split\n"
   ]
  },
  {
   "cell_type": "code",
   "execution_count": 16,
   "metadata": {},
   "outputs": [],
   "source": [
    "train_data = pd.read_csv('train.csv')\n",
    "test_data = pd.read_csv('test.csv')"
   ]
  },
  {
   "cell_type": "code",
   "execution_count": 17,
   "metadata": {},
   "outputs": [
    {
     "data": {
      "text/plain": [
       "(1460, 81)"
      ]
     },
     "execution_count": 17,
     "metadata": {},
     "output_type": "execute_result"
    }
   ],
   "source": [
    "train_data.shape"
   ]
  },
  {
   "cell_type": "code",
   "execution_count": 18,
   "metadata": {},
   "outputs": [
    {
     "data": {
      "text/html": [
       "<div>\n",
       "<style scoped>\n",
       "    .dataframe tbody tr th:only-of-type {\n",
       "        vertical-align: middle;\n",
       "    }\n",
       "\n",
       "    .dataframe tbody tr th {\n",
       "        vertical-align: top;\n",
       "    }\n",
       "\n",
       "    .dataframe thead th {\n",
       "        text-align: right;\n",
       "    }\n",
       "</style>\n",
       "<table border=\"1\" class=\"dataframe\">\n",
       "  <thead>\n",
       "    <tr style=\"text-align: right;\">\n",
       "      <th></th>\n",
       "      <th>Id</th>\n",
       "      <th>MSSubClass</th>\n",
       "      <th>MSZoning</th>\n",
       "      <th>LotFrontage</th>\n",
       "      <th>LotArea</th>\n",
       "      <th>Street</th>\n",
       "      <th>Alley</th>\n",
       "      <th>LotShape</th>\n",
       "      <th>LandContour</th>\n",
       "      <th>Utilities</th>\n",
       "      <th>...</th>\n",
       "      <th>PoolArea</th>\n",
       "      <th>PoolQC</th>\n",
       "      <th>Fence</th>\n",
       "      <th>MiscFeature</th>\n",
       "      <th>MiscVal</th>\n",
       "      <th>MoSold</th>\n",
       "      <th>YrSold</th>\n",
       "      <th>SaleType</th>\n",
       "      <th>SaleCondition</th>\n",
       "      <th>SalePrice</th>\n",
       "    </tr>\n",
       "  </thead>\n",
       "  <tbody>\n",
       "    <tr>\n",
       "      <th>0</th>\n",
       "      <td>1</td>\n",
       "      <td>60</td>\n",
       "      <td>RL</td>\n",
       "      <td>65.0</td>\n",
       "      <td>8450</td>\n",
       "      <td>Pave</td>\n",
       "      <td>NaN</td>\n",
       "      <td>Reg</td>\n",
       "      <td>Lvl</td>\n",
       "      <td>AllPub</td>\n",
       "      <td>...</td>\n",
       "      <td>0</td>\n",
       "      <td>NaN</td>\n",
       "      <td>NaN</td>\n",
       "      <td>NaN</td>\n",
       "      <td>0</td>\n",
       "      <td>2</td>\n",
       "      <td>2008</td>\n",
       "      <td>WD</td>\n",
       "      <td>Normal</td>\n",
       "      <td>208500</td>\n",
       "    </tr>\n",
       "    <tr>\n",
       "      <th>1</th>\n",
       "      <td>2</td>\n",
       "      <td>20</td>\n",
       "      <td>RL</td>\n",
       "      <td>80.0</td>\n",
       "      <td>9600</td>\n",
       "      <td>Pave</td>\n",
       "      <td>NaN</td>\n",
       "      <td>Reg</td>\n",
       "      <td>Lvl</td>\n",
       "      <td>AllPub</td>\n",
       "      <td>...</td>\n",
       "      <td>0</td>\n",
       "      <td>NaN</td>\n",
       "      <td>NaN</td>\n",
       "      <td>NaN</td>\n",
       "      <td>0</td>\n",
       "      <td>5</td>\n",
       "      <td>2007</td>\n",
       "      <td>WD</td>\n",
       "      <td>Normal</td>\n",
       "      <td>181500</td>\n",
       "    </tr>\n",
       "    <tr>\n",
       "      <th>2</th>\n",
       "      <td>3</td>\n",
       "      <td>60</td>\n",
       "      <td>RL</td>\n",
       "      <td>68.0</td>\n",
       "      <td>11250</td>\n",
       "      <td>Pave</td>\n",
       "      <td>NaN</td>\n",
       "      <td>IR1</td>\n",
       "      <td>Lvl</td>\n",
       "      <td>AllPub</td>\n",
       "      <td>...</td>\n",
       "      <td>0</td>\n",
       "      <td>NaN</td>\n",
       "      <td>NaN</td>\n",
       "      <td>NaN</td>\n",
       "      <td>0</td>\n",
       "      <td>9</td>\n",
       "      <td>2008</td>\n",
       "      <td>WD</td>\n",
       "      <td>Normal</td>\n",
       "      <td>223500</td>\n",
       "    </tr>\n",
       "    <tr>\n",
       "      <th>3</th>\n",
       "      <td>4</td>\n",
       "      <td>70</td>\n",
       "      <td>RL</td>\n",
       "      <td>60.0</td>\n",
       "      <td>9550</td>\n",
       "      <td>Pave</td>\n",
       "      <td>NaN</td>\n",
       "      <td>IR1</td>\n",
       "      <td>Lvl</td>\n",
       "      <td>AllPub</td>\n",
       "      <td>...</td>\n",
       "      <td>0</td>\n",
       "      <td>NaN</td>\n",
       "      <td>NaN</td>\n",
       "      <td>NaN</td>\n",
       "      <td>0</td>\n",
       "      <td>2</td>\n",
       "      <td>2006</td>\n",
       "      <td>WD</td>\n",
       "      <td>Abnorml</td>\n",
       "      <td>140000</td>\n",
       "    </tr>\n",
       "    <tr>\n",
       "      <th>4</th>\n",
       "      <td>5</td>\n",
       "      <td>60</td>\n",
       "      <td>RL</td>\n",
       "      <td>84.0</td>\n",
       "      <td>14260</td>\n",
       "      <td>Pave</td>\n",
       "      <td>NaN</td>\n",
       "      <td>IR1</td>\n",
       "      <td>Lvl</td>\n",
       "      <td>AllPub</td>\n",
       "      <td>...</td>\n",
       "      <td>0</td>\n",
       "      <td>NaN</td>\n",
       "      <td>NaN</td>\n",
       "      <td>NaN</td>\n",
       "      <td>0</td>\n",
       "      <td>12</td>\n",
       "      <td>2008</td>\n",
       "      <td>WD</td>\n",
       "      <td>Normal</td>\n",
       "      <td>250000</td>\n",
       "    </tr>\n",
       "  </tbody>\n",
       "</table>\n",
       "<p>5 rows × 81 columns</p>\n",
       "</div>"
      ],
      "text/plain": [
       "   Id  MSSubClass MSZoning  LotFrontage  LotArea Street Alley LotShape  \\\n",
       "0   1          60       RL         65.0     8450   Pave   NaN      Reg   \n",
       "1   2          20       RL         80.0     9600   Pave   NaN      Reg   \n",
       "2   3          60       RL         68.0    11250   Pave   NaN      IR1   \n",
       "3   4          70       RL         60.0     9550   Pave   NaN      IR1   \n",
       "4   5          60       RL         84.0    14260   Pave   NaN      IR1   \n",
       "\n",
       "  LandContour Utilities  ... PoolArea PoolQC Fence MiscFeature MiscVal MoSold  \\\n",
       "0         Lvl    AllPub  ...        0    NaN   NaN         NaN       0      2   \n",
       "1         Lvl    AllPub  ...        0    NaN   NaN         NaN       0      5   \n",
       "2         Lvl    AllPub  ...        0    NaN   NaN         NaN       0      9   \n",
       "3         Lvl    AllPub  ...        0    NaN   NaN         NaN       0      2   \n",
       "4         Lvl    AllPub  ...        0    NaN   NaN         NaN       0     12   \n",
       "\n",
       "  YrSold  SaleType  SaleCondition  SalePrice  \n",
       "0   2008        WD         Normal     208500  \n",
       "1   2007        WD         Normal     181500  \n",
       "2   2008        WD         Normal     223500  \n",
       "3   2006        WD        Abnorml     140000  \n",
       "4   2008        WD         Normal     250000  \n",
       "\n",
       "[5 rows x 81 columns]"
      ]
     },
     "execution_count": 18,
     "metadata": {},
     "output_type": "execute_result"
    }
   ],
   "source": [
    "train_data.head()"
   ]
  },
  {
   "cell_type": "code",
   "execution_count": 19,
   "metadata": {},
   "outputs": [
    {
     "data": {
      "text/html": [
       "<div>\n",
       "<style scoped>\n",
       "    .dataframe tbody tr th:only-of-type {\n",
       "        vertical-align: middle;\n",
       "    }\n",
       "\n",
       "    .dataframe tbody tr th {\n",
       "        vertical-align: top;\n",
       "    }\n",
       "\n",
       "    .dataframe thead th {\n",
       "        text-align: right;\n",
       "    }\n",
       "</style>\n",
       "<table border=\"1\" class=\"dataframe\">\n",
       "  <thead>\n",
       "    <tr style=\"text-align: right;\">\n",
       "      <th></th>\n",
       "      <th>Id</th>\n",
       "      <th>MSSubClass</th>\n",
       "      <th>MSZoning</th>\n",
       "      <th>LotFrontage</th>\n",
       "      <th>LotArea</th>\n",
       "      <th>Street</th>\n",
       "      <th>Alley</th>\n",
       "      <th>LotShape</th>\n",
       "      <th>LandContour</th>\n",
       "      <th>Utilities</th>\n",
       "      <th>...</th>\n",
       "      <th>ScreenPorch</th>\n",
       "      <th>PoolArea</th>\n",
       "      <th>PoolQC</th>\n",
       "      <th>Fence</th>\n",
       "      <th>MiscFeature</th>\n",
       "      <th>MiscVal</th>\n",
       "      <th>MoSold</th>\n",
       "      <th>YrSold</th>\n",
       "      <th>SaleType</th>\n",
       "      <th>SaleCondition</th>\n",
       "    </tr>\n",
       "  </thead>\n",
       "  <tbody>\n",
       "    <tr>\n",
       "      <th>0</th>\n",
       "      <td>1461</td>\n",
       "      <td>20</td>\n",
       "      <td>RH</td>\n",
       "      <td>80.0</td>\n",
       "      <td>11622</td>\n",
       "      <td>Pave</td>\n",
       "      <td>NaN</td>\n",
       "      <td>Reg</td>\n",
       "      <td>Lvl</td>\n",
       "      <td>AllPub</td>\n",
       "      <td>...</td>\n",
       "      <td>120</td>\n",
       "      <td>0</td>\n",
       "      <td>NaN</td>\n",
       "      <td>MnPrv</td>\n",
       "      <td>NaN</td>\n",
       "      <td>0</td>\n",
       "      <td>6</td>\n",
       "      <td>2010</td>\n",
       "      <td>WD</td>\n",
       "      <td>Normal</td>\n",
       "    </tr>\n",
       "    <tr>\n",
       "      <th>1</th>\n",
       "      <td>1462</td>\n",
       "      <td>20</td>\n",
       "      <td>RL</td>\n",
       "      <td>81.0</td>\n",
       "      <td>14267</td>\n",
       "      <td>Pave</td>\n",
       "      <td>NaN</td>\n",
       "      <td>IR1</td>\n",
       "      <td>Lvl</td>\n",
       "      <td>AllPub</td>\n",
       "      <td>...</td>\n",
       "      <td>0</td>\n",
       "      <td>0</td>\n",
       "      <td>NaN</td>\n",
       "      <td>NaN</td>\n",
       "      <td>Gar2</td>\n",
       "      <td>12500</td>\n",
       "      <td>6</td>\n",
       "      <td>2010</td>\n",
       "      <td>WD</td>\n",
       "      <td>Normal</td>\n",
       "    </tr>\n",
       "    <tr>\n",
       "      <th>2</th>\n",
       "      <td>1463</td>\n",
       "      <td>60</td>\n",
       "      <td>RL</td>\n",
       "      <td>74.0</td>\n",
       "      <td>13830</td>\n",
       "      <td>Pave</td>\n",
       "      <td>NaN</td>\n",
       "      <td>IR1</td>\n",
       "      <td>Lvl</td>\n",
       "      <td>AllPub</td>\n",
       "      <td>...</td>\n",
       "      <td>0</td>\n",
       "      <td>0</td>\n",
       "      <td>NaN</td>\n",
       "      <td>MnPrv</td>\n",
       "      <td>NaN</td>\n",
       "      <td>0</td>\n",
       "      <td>3</td>\n",
       "      <td>2010</td>\n",
       "      <td>WD</td>\n",
       "      <td>Normal</td>\n",
       "    </tr>\n",
       "    <tr>\n",
       "      <th>3</th>\n",
       "      <td>1464</td>\n",
       "      <td>60</td>\n",
       "      <td>RL</td>\n",
       "      <td>78.0</td>\n",
       "      <td>9978</td>\n",
       "      <td>Pave</td>\n",
       "      <td>NaN</td>\n",
       "      <td>IR1</td>\n",
       "      <td>Lvl</td>\n",
       "      <td>AllPub</td>\n",
       "      <td>...</td>\n",
       "      <td>0</td>\n",
       "      <td>0</td>\n",
       "      <td>NaN</td>\n",
       "      <td>NaN</td>\n",
       "      <td>NaN</td>\n",
       "      <td>0</td>\n",
       "      <td>6</td>\n",
       "      <td>2010</td>\n",
       "      <td>WD</td>\n",
       "      <td>Normal</td>\n",
       "    </tr>\n",
       "    <tr>\n",
       "      <th>4</th>\n",
       "      <td>1465</td>\n",
       "      <td>120</td>\n",
       "      <td>RL</td>\n",
       "      <td>43.0</td>\n",
       "      <td>5005</td>\n",
       "      <td>Pave</td>\n",
       "      <td>NaN</td>\n",
       "      <td>IR1</td>\n",
       "      <td>HLS</td>\n",
       "      <td>AllPub</td>\n",
       "      <td>...</td>\n",
       "      <td>144</td>\n",
       "      <td>0</td>\n",
       "      <td>NaN</td>\n",
       "      <td>NaN</td>\n",
       "      <td>NaN</td>\n",
       "      <td>0</td>\n",
       "      <td>1</td>\n",
       "      <td>2010</td>\n",
       "      <td>WD</td>\n",
       "      <td>Normal</td>\n",
       "    </tr>\n",
       "  </tbody>\n",
       "</table>\n",
       "<p>5 rows × 80 columns</p>\n",
       "</div>"
      ],
      "text/plain": [
       "     Id  MSSubClass MSZoning  LotFrontage  LotArea Street Alley LotShape  \\\n",
       "0  1461          20       RH         80.0    11622   Pave   NaN      Reg   \n",
       "1  1462          20       RL         81.0    14267   Pave   NaN      IR1   \n",
       "2  1463          60       RL         74.0    13830   Pave   NaN      IR1   \n",
       "3  1464          60       RL         78.0     9978   Pave   NaN      IR1   \n",
       "4  1465         120       RL         43.0     5005   Pave   NaN      IR1   \n",
       "\n",
       "  LandContour Utilities  ... ScreenPorch PoolArea PoolQC  Fence MiscFeature  \\\n",
       "0         Lvl    AllPub  ...         120        0    NaN  MnPrv         NaN   \n",
       "1         Lvl    AllPub  ...           0        0    NaN    NaN        Gar2   \n",
       "2         Lvl    AllPub  ...           0        0    NaN  MnPrv         NaN   \n",
       "3         Lvl    AllPub  ...           0        0    NaN    NaN         NaN   \n",
       "4         HLS    AllPub  ...         144        0    NaN    NaN         NaN   \n",
       "\n",
       "  MiscVal MoSold  YrSold  SaleType  SaleCondition  \n",
       "0       0      6    2010        WD         Normal  \n",
       "1   12500      6    2010        WD         Normal  \n",
       "2       0      3    2010        WD         Normal  \n",
       "3       0      6    2010        WD         Normal  \n",
       "4       0      1    2010        WD         Normal  \n",
       "\n",
       "[5 rows x 80 columns]"
      ]
     },
     "execution_count": 19,
     "metadata": {},
     "output_type": "execute_result"
    }
   ],
   "source": [
    "test_data.head()"
   ]
  },
  {
   "cell_type": "markdown",
   "metadata": {},
   "source": [
    "## Step 1: Data cleaning"
   ]
  },
  {
   "cell_type": "markdown",
   "metadata": {},
   "source": [
    "### 1.1: Checking for NaNs"
   ]
  },
  {
   "cell_type": "markdown",
   "metadata": {},
   "source": [
    "#### A big part of data cleaning is dealing with NaN entries, and deciding whether/how to replace or remove them."
   ]
  },
  {
   "cell_type": "markdown",
   "metadata": {},
   "source": [
    "#### First, I create a function to check which columns contain NaN entries"
   ]
  },
  {
   "cell_type": "code",
   "execution_count": 20,
   "metadata": {},
   "outputs": [],
   "source": [
    "def check_nans(data):\n",
    "    \"\"\"Checks data for NaN entries\n",
    "    Inputs: Pandas Dataframe\n",
    "    Outputs: Columns containing NaN entries\"\"\"\n",
    "    \n",
    "    nan_cols = []\n",
    "    for col in data.columns:\n",
    "        if data[col].isnull().values.any():\n",
    "            nan_cols.append(col)\n",
    "    return nan_cols"
   ]
  },
  {
   "cell_type": "code",
   "execution_count": 22,
   "metadata": {},
   "outputs": [
    {
     "data": {
      "text/plain": [
       "(['LotFrontage',\n",
       "  'Alley',\n",
       "  'MasVnrType',\n",
       "  'MasVnrArea',\n",
       "  'BsmtQual',\n",
       "  'BsmtCond',\n",
       "  'BsmtExposure',\n",
       "  'BsmtFinType1',\n",
       "  'BsmtFinType2',\n",
       "  'Electrical',\n",
       "  'FireplaceQu',\n",
       "  'GarageType',\n",
       "  'GarageYrBlt',\n",
       "  'GarageFinish',\n",
       "  'GarageQual',\n",
       "  'GarageCond',\n",
       "  'PoolQC',\n",
       "  'Fence',\n",
       "  'MiscFeature'],\n",
       " ['MSZoning',\n",
       "  'LotFrontage',\n",
       "  'Alley',\n",
       "  'Utilities',\n",
       "  'Exterior1st',\n",
       "  'Exterior2nd',\n",
       "  'MasVnrType',\n",
       "  'MasVnrArea',\n",
       "  'BsmtQual',\n",
       "  'BsmtCond',\n",
       "  'BsmtExposure',\n",
       "  'BsmtFinType1',\n",
       "  'BsmtFinSF1',\n",
       "  'BsmtFinType2',\n",
       "  'BsmtFinSF2',\n",
       "  'BsmtUnfSF',\n",
       "  'TotalBsmtSF',\n",
       "  'BsmtFullBath',\n",
       "  'BsmtHalfBath',\n",
       "  'KitchenQual',\n",
       "  'Functional',\n",
       "  'FireplaceQu',\n",
       "  'GarageType',\n",
       "  'GarageYrBlt',\n",
       "  'GarageFinish',\n",
       "  'GarageCars',\n",
       "  'GarageArea',\n",
       "  'GarageQual',\n",
       "  'GarageCond',\n",
       "  'PoolQC',\n",
       "  'Fence',\n",
       "  'MiscFeature',\n",
       "  'SaleType'])"
      ]
     },
     "execution_count": 22,
     "metadata": {},
     "output_type": "execute_result"
    }
   ],
   "source": [
    "check_nans(train_data), check_nans(test_data)"
   ]
  },
  {
   "cell_type": "markdown",
   "metadata": {},
   "source": [
    "#### Here I create a function to display the data types of a list of columns in the dataset provided as an argument:"
   ]
  },
  {
   "cell_type": "code",
   "execution_count": 23,
   "metadata": {},
   "outputs": [],
   "source": [
    "def check_data_types(data,col_list):\n",
    "    for col in col_list:\n",
    "        print(f\"Column name: {col}, Data type: {data[col].dtype}\")"
   ]
  },
  {
   "cell_type": "markdown",
   "metadata": {},
   "source": [
    "#### I also separate the target variable from, the predictor variable, and then combine the train and test features for the purpose of cleaning the data"
   ]
  },
  {
   "cell_type": "code",
   "execution_count": 24,
   "metadata": {},
   "outputs": [],
   "source": [
    "y_train = train_data['SalePrice']"
   ]
  },
  {
   "cell_type": "code",
   "execution_count": 26,
   "metadata": {},
   "outputs": [],
   "source": [
    "train_data = train_data.drop('SalePrice',axis=1)"
   ]
  },
  {
   "cell_type": "code",
   "execution_count": 105,
   "metadata": {},
   "outputs": [],
   "source": [
    "alldata = train_data.append(test_data)"
   ]
  },
  {
   "cell_type": "code",
   "execution_count": 106,
   "metadata": {},
   "outputs": [
    {
     "name": "stdout",
     "output_type": "stream",
     "text": [
      "Column name: MSZoning, Data type: object\n",
      "Column name: LotFrontage, Data type: float64\n",
      "Column name: Alley, Data type: object\n",
      "Column name: Utilities, Data type: object\n",
      "Column name: Exterior1st, Data type: object\n",
      "Column name: Exterior2nd, Data type: object\n",
      "Column name: MasVnrType, Data type: object\n",
      "Column name: MasVnrArea, Data type: float64\n",
      "Column name: BsmtQual, Data type: object\n",
      "Column name: BsmtCond, Data type: object\n",
      "Column name: BsmtExposure, Data type: object\n",
      "Column name: BsmtFinType1, Data type: object\n",
      "Column name: BsmtFinSF1, Data type: float64\n",
      "Column name: BsmtFinType2, Data type: object\n",
      "Column name: BsmtFinSF2, Data type: float64\n",
      "Column name: BsmtUnfSF, Data type: float64\n",
      "Column name: TotalBsmtSF, Data type: float64\n",
      "Column name: Electrical, Data type: object\n",
      "Column name: BsmtFullBath, Data type: float64\n",
      "Column name: BsmtHalfBath, Data type: float64\n",
      "Column name: KitchenQual, Data type: object\n",
      "Column name: Functional, Data type: object\n",
      "Column name: FireplaceQu, Data type: object\n",
      "Column name: GarageType, Data type: object\n",
      "Column name: GarageYrBlt, Data type: float64\n",
      "Column name: GarageFinish, Data type: object\n",
      "Column name: GarageCars, Data type: float64\n",
      "Column name: GarageArea, Data type: float64\n",
      "Column name: GarageQual, Data type: object\n",
      "Column name: GarageCond, Data type: object\n",
      "Column name: PoolQC, Data type: object\n",
      "Column name: Fence, Data type: object\n",
      "Column name: MiscFeature, Data type: object\n",
      "Column name: SaleType, Data type: object\n"
     ]
    }
   ],
   "source": [
    "check_data_types(alldata,check_nans(alldata))"
   ]
  },
  {
   "cell_type": "code",
   "execution_count": 107,
   "metadata": {},
   "outputs": [],
   "source": [
    "alldata = alldata.reset_index().iloc[:,1:]"
   ]
  },
  {
   "cell_type": "markdown",
   "metadata": {},
   "source": [
    "#### Now, I go through every column in the data that contains NaNs. If the data is numeric, I can employ a skew test to determine whether the mean or median is better suited to replace the NaNs (the median is more suitable for skewed data).\n",
    "\n",
    "#### For categorical data, the modal label will replace the missing entries.\n",
    "\n",
    "#### This is quite a lengthy process, but it's important that the values we impute are those that are the least likely to misrepresent the data, and that we don't hastily discard columns that may provide valuable insight."
   ]
  },
  {
   "cell_type": "code",
   "execution_count": 108,
   "metadata": {},
   "outputs": [
    {
     "data": {
      "text/plain": [
       "RL         2265\n",
       "RM          460\n",
       "FV          139\n",
       "RH           26\n",
       "C (all)      25\n",
       "NaN           4\n",
       "Name: MSZoning, dtype: int64"
      ]
     },
     "execution_count": 108,
     "metadata": {},
     "output_type": "execute_result"
    }
   ],
   "source": [
    "alldata['MSZoning'].value_counts(dropna=False)"
   ]
  },
  {
   "cell_type": "code",
   "execution_count": 109,
   "metadata": {},
   "outputs": [],
   "source": [
    "mode = alldata['MSZoning'].value_counts().index[0]\n",
    "\n",
    "alldata['MSZoning'] = alldata['MSZoning'].fillna(mode)"
   ]
  },
  {
   "cell_type": "code",
   "execution_count": 110,
   "metadata": {},
   "outputs": [
    {
     "data": {
      "text/plain": [
       "NaN      486\n",
       "60.0     276\n",
       "80.0     137\n",
       "70.0     133\n",
       "50.0     117\n",
       "        ... \n",
       "138.0      1\n",
       "31.0       1\n",
       "144.0      1\n",
       "141.0      1\n",
       "28.0       1\n",
       "Name: LotFrontage, Length: 129, dtype: int64"
      ]
     },
     "execution_count": 110,
     "metadata": {},
     "output_type": "execute_result"
    }
   ],
   "source": [
    "alldata['LotFrontage'].value_counts(dropna=False)"
   ]
  },
  {
   "cell_type": "code",
   "execution_count": 111,
   "metadata": {},
   "outputs": [],
   "source": [
    "p = skewtest(alldata['LotFrontage'],nan_policy='omit')\n",
    "\n",
    "if p[1] < 0.05:\n",
    "    alldata['LotFrontage'] = alldata['LotFrontage'].fillna(alldata['LotFrontage'].median())\n",
    "else:\n",
    "    alldata['LotFrontage'] = alldata['LotFrontage'].fillna(alldata['LotFrontage'].mean())"
   ]
  },
  {
   "cell_type": "code",
   "execution_count": 112,
   "metadata": {},
   "outputs": [
    {
     "data": {
      "text/plain": [
       "NaN     2721\n",
       "Grvl     120\n",
       "Pave      78\n",
       "Name: Alley, dtype: int64"
      ]
     },
     "execution_count": 112,
     "metadata": {},
     "output_type": "execute_result"
    }
   ],
   "source": [
    "alldata['Alley'].value_counts(dropna=False)"
   ]
  },
  {
   "cell_type": "code",
   "execution_count": 113,
   "metadata": {},
   "outputs": [],
   "source": [
    "alldata['Alley'] = alldata['Alley'].fillna('None')"
   ]
  },
  {
   "cell_type": "code",
   "execution_count": 114,
   "metadata": {},
   "outputs": [
    {
     "data": {
      "text/plain": [
       "AllPub    2916\n",
       "NaN          2\n",
       "NoSeWa       1\n",
       "Name: Utilities, dtype: int64"
      ]
     },
     "execution_count": 114,
     "metadata": {},
     "output_type": "execute_result"
    }
   ],
   "source": [
    "alldata['Utilities'].value_counts(dropna=False)"
   ]
  },
  {
   "cell_type": "code",
   "execution_count": 115,
   "metadata": {},
   "outputs": [],
   "source": [
    "alldata['Utilities'] = alldata['Utilities'].fillna('AllPub')"
   ]
  },
  {
   "cell_type": "code",
   "execution_count": 116,
   "metadata": {},
   "outputs": [
    {
     "data": {
      "text/plain": [
       "VinylSd    1025\n",
       "MetalSd     450\n",
       "HdBoard     442\n",
       "Wd Sdng     411\n",
       "Plywood     221\n",
       "CemntBd     126\n",
       "BrkFace      87\n",
       "WdShing      56\n",
       "AsbShng      44\n",
       "Stucco       43\n",
       "BrkComm       6\n",
       "AsphShn       2\n",
       "CBlock        2\n",
       "Stone         2\n",
       "NaN           1\n",
       "ImStucc       1\n",
       "Name: Exterior1st, dtype: int64"
      ]
     },
     "execution_count": 116,
     "metadata": {},
     "output_type": "execute_result"
    }
   ],
   "source": [
    "alldata['Exterior1st'].value_counts(dropna=False)"
   ]
  },
  {
   "cell_type": "code",
   "execution_count": 117,
   "metadata": {},
   "outputs": [],
   "source": [
    "alldata['Exterior1st'] = alldata['Exterior1st'].fillna('VinylSd')"
   ]
  },
  {
   "cell_type": "code",
   "execution_count": 118,
   "metadata": {},
   "outputs": [
    {
     "data": {
      "text/plain": [
       "VinylSd    1014\n",
       "MetalSd     447\n",
       "HdBoard     406\n",
       "Wd Sdng     391\n",
       "Plywood     270\n",
       "CmentBd     126\n",
       "Wd Shng      81\n",
       "Stucco       47\n",
       "BrkFace      47\n",
       "AsbShng      38\n",
       "Brk Cmn      22\n",
       "ImStucc      15\n",
       "Stone         6\n",
       "AsphShn       4\n",
       "CBlock        3\n",
       "Other         1\n",
       "NaN           1\n",
       "Name: Exterior2nd, dtype: int64"
      ]
     },
     "execution_count": 118,
     "metadata": {},
     "output_type": "execute_result"
    }
   ],
   "source": [
    "alldata['Exterior2nd'].value_counts(dropna=False)"
   ]
  },
  {
   "cell_type": "code",
   "execution_count": 119,
   "metadata": {},
   "outputs": [],
   "source": [
    "alldata['Exterior2nd'] = alldata['Exterior2nd'].fillna('VinylSd')"
   ]
  },
  {
   "cell_type": "code",
   "execution_count": 120,
   "metadata": {},
   "outputs": [
    {
     "data": {
      "text/plain": [
       "None       1742\n",
       "BrkFace     879\n",
       "Stone       249\n",
       "BrkCmn       25\n",
       "NaN          24\n",
       "Name: MasVnrType, dtype: int64"
      ]
     },
     "execution_count": 120,
     "metadata": {},
     "output_type": "execute_result"
    }
   ],
   "source": [
    "alldata['MasVnrType'].value_counts(dropna=False)"
   ]
  },
  {
   "cell_type": "code",
   "execution_count": 121,
   "metadata": {},
   "outputs": [
    {
     "data": {
      "text/html": [
       "<div>\n",
       "<style scoped>\n",
       "    .dataframe tbody tr th:only-of-type {\n",
       "        vertical-align: middle;\n",
       "    }\n",
       "\n",
       "    .dataframe tbody tr th {\n",
       "        vertical-align: top;\n",
       "    }\n",
       "\n",
       "    .dataframe thead th {\n",
       "        text-align: right;\n",
       "    }\n",
       "</style>\n",
       "<table border=\"1\" class=\"dataframe\">\n",
       "  <thead>\n",
       "    <tr style=\"text-align: right;\">\n",
       "      <th></th>\n",
       "      <th>MasVnrType</th>\n",
       "      <th>MasVnrArea</th>\n",
       "    </tr>\n",
       "  </thead>\n",
       "  <tbody>\n",
       "    <tr>\n",
       "      <th>234</th>\n",
       "      <td>NaN</td>\n",
       "      <td>NaN</td>\n",
       "    </tr>\n",
       "    <tr>\n",
       "      <th>529</th>\n",
       "      <td>NaN</td>\n",
       "      <td>NaN</td>\n",
       "    </tr>\n",
       "    <tr>\n",
       "      <th>650</th>\n",
       "      <td>NaN</td>\n",
       "      <td>NaN</td>\n",
       "    </tr>\n",
       "    <tr>\n",
       "      <th>936</th>\n",
       "      <td>NaN</td>\n",
       "      <td>NaN</td>\n",
       "    </tr>\n",
       "    <tr>\n",
       "      <th>973</th>\n",
       "      <td>NaN</td>\n",
       "      <td>NaN</td>\n",
       "    </tr>\n",
       "    <tr>\n",
       "      <th>977</th>\n",
       "      <td>NaN</td>\n",
       "      <td>NaN</td>\n",
       "    </tr>\n",
       "    <tr>\n",
       "      <th>1243</th>\n",
       "      <td>NaN</td>\n",
       "      <td>NaN</td>\n",
       "    </tr>\n",
       "    <tr>\n",
       "      <th>1278</th>\n",
       "      <td>NaN</td>\n",
       "      <td>NaN</td>\n",
       "    </tr>\n",
       "    <tr>\n",
       "      <th>1691</th>\n",
       "      <td>NaN</td>\n",
       "      <td>NaN</td>\n",
       "    </tr>\n",
       "    <tr>\n",
       "      <th>1706</th>\n",
       "      <td>NaN</td>\n",
       "      <td>NaN</td>\n",
       "    </tr>\n",
       "    <tr>\n",
       "      <th>1882</th>\n",
       "      <td>NaN</td>\n",
       "      <td>NaN</td>\n",
       "    </tr>\n",
       "    <tr>\n",
       "      <th>1992</th>\n",
       "      <td>NaN</td>\n",
       "      <td>NaN</td>\n",
       "    </tr>\n",
       "    <tr>\n",
       "      <th>2004</th>\n",
       "      <td>NaN</td>\n",
       "      <td>NaN</td>\n",
       "    </tr>\n",
       "    <tr>\n",
       "      <th>2041</th>\n",
       "      <td>NaN</td>\n",
       "      <td>NaN</td>\n",
       "    </tr>\n",
       "    <tr>\n",
       "      <th>2311</th>\n",
       "      <td>NaN</td>\n",
       "      <td>NaN</td>\n",
       "    </tr>\n",
       "    <tr>\n",
       "      <th>2325</th>\n",
       "      <td>NaN</td>\n",
       "      <td>NaN</td>\n",
       "    </tr>\n",
       "    <tr>\n",
       "      <th>2340</th>\n",
       "      <td>NaN</td>\n",
       "      <td>NaN</td>\n",
       "    </tr>\n",
       "    <tr>\n",
       "      <th>2349</th>\n",
       "      <td>NaN</td>\n",
       "      <td>NaN</td>\n",
       "    </tr>\n",
       "    <tr>\n",
       "      <th>2368</th>\n",
       "      <td>NaN</td>\n",
       "      <td>NaN</td>\n",
       "    </tr>\n",
       "    <tr>\n",
       "      <th>2592</th>\n",
       "      <td>NaN</td>\n",
       "      <td>NaN</td>\n",
       "    </tr>\n",
       "    <tr>\n",
       "      <th>2610</th>\n",
       "      <td>NaN</td>\n",
       "      <td>198.0</td>\n",
       "    </tr>\n",
       "    <tr>\n",
       "      <th>2657</th>\n",
       "      <td>NaN</td>\n",
       "      <td>NaN</td>\n",
       "    </tr>\n",
       "    <tr>\n",
       "      <th>2686</th>\n",
       "      <td>NaN</td>\n",
       "      <td>NaN</td>\n",
       "    </tr>\n",
       "    <tr>\n",
       "      <th>2862</th>\n",
       "      <td>NaN</td>\n",
       "      <td>NaN</td>\n",
       "    </tr>\n",
       "  </tbody>\n",
       "</table>\n",
       "</div>"
      ],
      "text/plain": [
       "     MasVnrType  MasVnrArea\n",
       "234         NaN         NaN\n",
       "529         NaN         NaN\n",
       "650         NaN         NaN\n",
       "936         NaN         NaN\n",
       "973         NaN         NaN\n",
       "977         NaN         NaN\n",
       "1243        NaN         NaN\n",
       "1278        NaN         NaN\n",
       "1691        NaN         NaN\n",
       "1706        NaN         NaN\n",
       "1882        NaN         NaN\n",
       "1992        NaN         NaN\n",
       "2004        NaN         NaN\n",
       "2041        NaN         NaN\n",
       "2311        NaN         NaN\n",
       "2325        NaN         NaN\n",
       "2340        NaN         NaN\n",
       "2349        NaN         NaN\n",
       "2368        NaN         NaN\n",
       "2592        NaN         NaN\n",
       "2610        NaN       198.0\n",
       "2657        NaN         NaN\n",
       "2686        NaN         NaN\n",
       "2862        NaN         NaN"
      ]
     },
     "execution_count": 121,
     "metadata": {},
     "output_type": "execute_result"
    }
   ],
   "source": [
    "alldata[['MasVnrType','MasVnrArea']][alldata[['MasVnrType','MasVnrArea']].isna().any(axis=1)]"
   ]
  },
  {
   "cell_type": "code",
   "execution_count": 122,
   "metadata": {},
   "outputs": [],
   "source": [
    "alldata.loc[2610,'MasVnrType'] = 'BrkFace'"
   ]
  },
  {
   "cell_type": "code",
   "execution_count": 123,
   "metadata": {},
   "outputs": [],
   "source": [
    "alldata['MasVnrType'] = alldata['MasVnrType'].fillna('None')"
   ]
  },
  {
   "cell_type": "code",
   "execution_count": 124,
   "metadata": {},
   "outputs": [
    {
     "data": {
      "text/plain": [
       "0.0       1738\n",
       "NaN         23\n",
       "120.0       15\n",
       "200.0       13\n",
       "176.0       13\n",
       "          ... \n",
       "571.0        1\n",
       "207.0        1\n",
       "34.0         1\n",
       "550.0        1\n",
       "1159.0       1\n",
       "Name: MasVnrArea, Length: 445, dtype: int64"
      ]
     },
     "execution_count": 124,
     "metadata": {},
     "output_type": "execute_result"
    }
   ],
   "source": [
    "alldata['MasVnrArea'].value_counts(dropna=False)"
   ]
  },
  {
   "cell_type": "code",
   "execution_count": 125,
   "metadata": {},
   "outputs": [],
   "source": [
    "alldata['MasVnrArea'] = alldata['MasVnrArea'].fillna(0.0)"
   ]
  },
  {
   "cell_type": "code",
   "execution_count": 126,
   "metadata": {},
   "outputs": [
    {
     "data": {
      "text/html": [
       "<div>\n",
       "<style scoped>\n",
       "    .dataframe tbody tr th:only-of-type {\n",
       "        vertical-align: middle;\n",
       "    }\n",
       "\n",
       "    .dataframe tbody tr th {\n",
       "        vertical-align: top;\n",
       "    }\n",
       "\n",
       "    .dataframe thead th {\n",
       "        text-align: right;\n",
       "    }\n",
       "</style>\n",
       "<table border=\"1\" class=\"dataframe\">\n",
       "  <thead>\n",
       "    <tr style=\"text-align: right;\">\n",
       "      <th></th>\n",
       "      <th>MasVnrType</th>\n",
       "      <th>MasVnrArea</th>\n",
       "    </tr>\n",
       "  </thead>\n",
       "  <tbody>\n",
       "    <tr>\n",
       "      <th>624</th>\n",
       "      <td>None</td>\n",
       "      <td>288.0</td>\n",
       "    </tr>\n",
       "    <tr>\n",
       "      <th>773</th>\n",
       "      <td>None</td>\n",
       "      <td>1.0</td>\n",
       "    </tr>\n",
       "    <tr>\n",
       "      <th>1230</th>\n",
       "      <td>None</td>\n",
       "      <td>1.0</td>\n",
       "    </tr>\n",
       "    <tr>\n",
       "      <th>1300</th>\n",
       "      <td>None</td>\n",
       "      <td>344.0</td>\n",
       "    </tr>\n",
       "    <tr>\n",
       "      <th>1334</th>\n",
       "      <td>None</td>\n",
       "      <td>312.0</td>\n",
       "    </tr>\n",
       "    <tr>\n",
       "      <th>1669</th>\n",
       "      <td>None</td>\n",
       "      <td>285.0</td>\n",
       "    </tr>\n",
       "    <tr>\n",
       "      <th>2452</th>\n",
       "      <td>None</td>\n",
       "      <td>1.0</td>\n",
       "    </tr>\n",
       "  </tbody>\n",
       "</table>\n",
       "</div>"
      ],
      "text/plain": [
       "     MasVnrType  MasVnrArea\n",
       "624        None       288.0\n",
       "773        None         1.0\n",
       "1230       None         1.0\n",
       "1300       None       344.0\n",
       "1334       None       312.0\n",
       "1669       None       285.0\n",
       "2452       None         1.0"
      ]
     },
     "execution_count": 126,
     "metadata": {},
     "output_type": "execute_result"
    }
   ],
   "source": [
    "alldata[['MasVnrType','MasVnrArea']][(alldata['MasVnrArea'] > 0) &  (alldata['MasVnrType'] == 'None')]"
   ]
  },
  {
   "cell_type": "code",
   "execution_count": 127,
   "metadata": {},
   "outputs": [],
   "source": [
    "for i in [624,773,1230,1300,1334,1669,2452]:\n",
    "    alldata.loc[i,'MasVnrArea'] = 0.0"
   ]
  },
  {
   "cell_type": "code",
   "execution_count": 128,
   "metadata": {},
   "outputs": [
    {
     "data": {
      "text/html": [
       "<div>\n",
       "<style scoped>\n",
       "    .dataframe tbody tr th:only-of-type {\n",
       "        vertical-align: middle;\n",
       "    }\n",
       "\n",
       "    .dataframe tbody tr th {\n",
       "        vertical-align: top;\n",
       "    }\n",
       "\n",
       "    .dataframe thead th {\n",
       "        text-align: right;\n",
       "    }\n",
       "</style>\n",
       "<table border=\"1\" class=\"dataframe\">\n",
       "  <thead>\n",
       "    <tr style=\"text-align: right;\">\n",
       "      <th></th>\n",
       "      <th>MasVnrType</th>\n",
       "      <th>MasVnrArea</th>\n",
       "    </tr>\n",
       "  </thead>\n",
       "  <tbody>\n",
       "    <tr>\n",
       "      <th>688</th>\n",
       "      <td>BrkFace</td>\n",
       "      <td>0.0</td>\n",
       "    </tr>\n",
       "    <tr>\n",
       "      <th>1241</th>\n",
       "      <td>Stone</td>\n",
       "      <td>0.0</td>\n",
       "    </tr>\n",
       "    <tr>\n",
       "      <th>2319</th>\n",
       "      <td>BrkFace</td>\n",
       "      <td>0.0</td>\n",
       "    </tr>\n",
       "  </tbody>\n",
       "</table>\n",
       "</div>"
      ],
      "text/plain": [
       "     MasVnrType  MasVnrArea\n",
       "688     BrkFace         0.0\n",
       "1241      Stone         0.0\n",
       "2319    BrkFace         0.0"
      ]
     },
     "execution_count": 128,
     "metadata": {},
     "output_type": "execute_result"
    }
   ],
   "source": [
    "alldata[['MasVnrType','MasVnrArea']][(alldata['MasVnrArea'] == 0) &  (alldata['MasVnrType'] != 'None')]"
   ]
  },
  {
   "cell_type": "code",
   "execution_count": 129,
   "metadata": {},
   "outputs": [],
   "source": [
    "for i in [688,1241,2319]:\n",
    "    alldata.loc[i,'MasVnrType'] = 'None'"
   ]
  },
  {
   "cell_type": "code",
   "execution_count": 130,
   "metadata": {},
   "outputs": [
    {
     "data": {
      "text/plain": [
       "TA     1283\n",
       "Gd     1209\n",
       "Ex      258\n",
       "Fa       88\n",
       "NaN      81\n",
       "Name: BsmtQual, dtype: int64"
      ]
     },
     "execution_count": 130,
     "metadata": {},
     "output_type": "execute_result"
    }
   ],
   "source": [
    "alldata['BsmtQual'].value_counts(dropna=False)"
   ]
  },
  {
   "cell_type": "code",
   "execution_count": 131,
   "metadata": {},
   "outputs": [
    {
     "data": {
      "text/plain": [
       "TA     2606\n",
       "Gd      122\n",
       "Fa      104\n",
       "NaN      82\n",
       "Po        5\n",
       "Name: BsmtCond, dtype: int64"
      ]
     },
     "execution_count": 131,
     "metadata": {},
     "output_type": "execute_result"
    }
   ],
   "source": [
    "alldata['BsmtCond'].value_counts(dropna=False)"
   ]
  },
  {
   "cell_type": "code",
   "execution_count": 132,
   "metadata": {},
   "outputs": [
    {
     "data": {
      "text/plain": [
       "No     1904\n",
       "Av      418\n",
       "Gd      276\n",
       "Mn      239\n",
       "NaN      82\n",
       "Name: BsmtExposure, dtype: int64"
      ]
     },
     "execution_count": 132,
     "metadata": {},
     "output_type": "execute_result"
    }
   ],
   "source": [
    "alldata['BsmtExposure'].value_counts(dropna=False)"
   ]
  },
  {
   "cell_type": "code",
   "execution_count": 133,
   "metadata": {},
   "outputs": [
    {
     "data": {
      "text/plain": [
       "Unf    851\n",
       "GLQ    849\n",
       "ALQ    429\n",
       "Rec    288\n",
       "BLQ    269\n",
       "LwQ    154\n",
       "NaN     79\n",
       "Name: BsmtFinType1, dtype: int64"
      ]
     },
     "execution_count": 133,
     "metadata": {},
     "output_type": "execute_result"
    }
   ],
   "source": [
    "alldata['BsmtFinType1'].value_counts(dropna=False)"
   ]
  },
  {
   "cell_type": "code",
   "execution_count": 134,
   "metadata": {},
   "outputs": [
    {
     "data": {
      "text/plain": [
       "0.0       78\n",
       "864.0     74\n",
       "672.0     29\n",
       "912.0     26\n",
       "1040.0    25\n",
       "          ..\n",
       "494.0      1\n",
       "551.0      1\n",
       "1154.0     1\n",
       "105.0      1\n",
       "1570.0     1\n",
       "Name: TotalBsmtSF, Length: 1059, dtype: int64"
      ]
     },
     "execution_count": 134,
     "metadata": {},
     "output_type": "execute_result"
    }
   ],
   "source": [
    "alldata['TotalBsmtSF'].value_counts(dropna=False)"
   ]
  },
  {
   "cell_type": "code",
   "execution_count": 135,
   "metadata": {},
   "outputs": [
    {
     "data": {
      "text/html": [
       "<div>\n",
       "<style scoped>\n",
       "    .dataframe tbody tr th:only-of-type {\n",
       "        vertical-align: middle;\n",
       "    }\n",
       "\n",
       "    .dataframe tbody tr th {\n",
       "        vertical-align: top;\n",
       "    }\n",
       "\n",
       "    .dataframe thead th {\n",
       "        text-align: right;\n",
       "    }\n",
       "</style>\n",
       "<table border=\"1\" class=\"dataframe\">\n",
       "  <thead>\n",
       "    <tr style=\"text-align: right;\">\n",
       "      <th></th>\n",
       "      <th>BsmtCond</th>\n",
       "      <th>TotalBsmtSF</th>\n",
       "    </tr>\n",
       "  </thead>\n",
       "  <tbody>\n",
       "    <tr>\n",
       "      <th>2040</th>\n",
       "      <td>NaN</td>\n",
       "      <td>1426.0</td>\n",
       "    </tr>\n",
       "    <tr>\n",
       "      <th>2185</th>\n",
       "      <td>NaN</td>\n",
       "      <td>1127.0</td>\n",
       "    </tr>\n",
       "    <tr>\n",
       "      <th>2524</th>\n",
       "      <td>NaN</td>\n",
       "      <td>995.0</td>\n",
       "    </tr>\n",
       "  </tbody>\n",
       "</table>\n",
       "</div>"
      ],
      "text/plain": [
       "     BsmtCond  TotalBsmtSF\n",
       "2040      NaN       1426.0\n",
       "2185      NaN       1127.0\n",
       "2524      NaN        995.0"
      ]
     },
     "execution_count": 135,
     "metadata": {},
     "output_type": "execute_result"
    }
   ],
   "source": [
    "alldata[['BsmtCond','TotalBsmtSF']][(alldata['BsmtCond'].isna()) & (alldata['TotalBsmtSF'] > 0)]"
   ]
  },
  {
   "cell_type": "code",
   "execution_count": 136,
   "metadata": {},
   "outputs": [],
   "source": [
    "for i in [2040,2185,2524]:\n",
    "    alldata.loc[i,'BsmtCond'] = 'TA'"
   ]
  },
  {
   "cell_type": "code",
   "execution_count": 137,
   "metadata": {},
   "outputs": [
    {
     "data": {
      "text/html": [
       "<div>\n",
       "<style scoped>\n",
       "    .dataframe tbody tr th:only-of-type {\n",
       "        vertical-align: middle;\n",
       "    }\n",
       "\n",
       "    .dataframe tbody tr th {\n",
       "        vertical-align: top;\n",
       "    }\n",
       "\n",
       "    .dataframe thead th {\n",
       "        text-align: right;\n",
       "    }\n",
       "</style>\n",
       "<table border=\"1\" class=\"dataframe\">\n",
       "  <thead>\n",
       "    <tr style=\"text-align: right;\">\n",
       "      <th></th>\n",
       "      <th>BsmtExposure</th>\n",
       "      <th>TotalBsmtSF</th>\n",
       "    </tr>\n",
       "  </thead>\n",
       "  <tbody>\n",
       "    <tr>\n",
       "      <th>948</th>\n",
       "      <td>NaN</td>\n",
       "      <td>936.0</td>\n",
       "    </tr>\n",
       "    <tr>\n",
       "      <th>1487</th>\n",
       "      <td>NaN</td>\n",
       "      <td>1595.0</td>\n",
       "    </tr>\n",
       "    <tr>\n",
       "      <th>2348</th>\n",
       "      <td>NaN</td>\n",
       "      <td>725.0</td>\n",
       "    </tr>\n",
       "  </tbody>\n",
       "</table>\n",
       "</div>"
      ],
      "text/plain": [
       "     BsmtExposure  TotalBsmtSF\n",
       "948           NaN        936.0\n",
       "1487          NaN       1595.0\n",
       "2348          NaN        725.0"
      ]
     },
     "execution_count": 137,
     "metadata": {},
     "output_type": "execute_result"
    }
   ],
   "source": [
    "alldata[['BsmtExposure','TotalBsmtSF']][(alldata['BsmtExposure'].isna()) & (alldata['TotalBsmtSF'] > 0)]"
   ]
  },
  {
   "cell_type": "code",
   "execution_count": 138,
   "metadata": {},
   "outputs": [],
   "source": [
    "for i in [948,1487,2348]:\n",
    "    alldata.loc[i,'BsmtExposure'] = 'No'"
   ]
  },
  {
   "cell_type": "code",
   "execution_count": 139,
   "metadata": {},
   "outputs": [
    {
     "data": {
      "text/html": [
       "<div>\n",
       "<style scoped>\n",
       "    .dataframe tbody tr th:only-of-type {\n",
       "        vertical-align: middle;\n",
       "    }\n",
       "\n",
       "    .dataframe tbody tr th {\n",
       "        vertical-align: top;\n",
       "    }\n",
       "\n",
       "    .dataframe thead th {\n",
       "        text-align: right;\n",
       "    }\n",
       "</style>\n",
       "<table border=\"1\" class=\"dataframe\">\n",
       "  <thead>\n",
       "    <tr style=\"text-align: right;\">\n",
       "      <th></th>\n",
       "      <th>BsmtQual</th>\n",
       "      <th>TotalBsmtSF</th>\n",
       "    </tr>\n",
       "  </thead>\n",
       "  <tbody>\n",
       "    <tr>\n",
       "      <th>2217</th>\n",
       "      <td>NaN</td>\n",
       "      <td>173.0</td>\n",
       "    </tr>\n",
       "    <tr>\n",
       "      <th>2218</th>\n",
       "      <td>NaN</td>\n",
       "      <td>356.0</td>\n",
       "    </tr>\n",
       "  </tbody>\n",
       "</table>\n",
       "</div>"
      ],
      "text/plain": [
       "     BsmtQual  TotalBsmtSF\n",
       "2217      NaN        173.0\n",
       "2218      NaN        356.0"
      ]
     },
     "execution_count": 139,
     "metadata": {},
     "output_type": "execute_result"
    }
   ],
   "source": [
    "alldata[['BsmtQual','TotalBsmtSF']][(alldata['BsmtQual'].isna()) & (alldata['TotalBsmtSF'] > 0)]"
   ]
  },
  {
   "cell_type": "code",
   "execution_count": 140,
   "metadata": {},
   "outputs": [],
   "source": [
    "for i in [2217,2218]:\n",
    "    alldata.loc[i,'BsmtQual'] = 'TA'"
   ]
  },
  {
   "cell_type": "code",
   "execution_count": 141,
   "metadata": {},
   "outputs": [],
   "source": [
    "alldata['BsmtCond'] = alldata['BsmtCond'].fillna('None')\n",
    "alldata['BsmtQual'] = alldata['BsmtQual'].fillna('None')\n",
    "alldata['BsmtExposure'] = alldata['BsmtExposure'].fillna('None')\n",
    "alldata['BsmtFinType1'] = alldata['BsmtFinType1'].fillna('None')\n"
   ]
  },
  {
   "cell_type": "code",
   "execution_count": 142,
   "metadata": {},
   "outputs": [
    {
     "data": {
      "text/plain": [
       "SBrkr    2671\n",
       "FuseA     188\n",
       "FuseF      50\n",
       "FuseP       8\n",
       "NaN         1\n",
       "Mix         1\n",
       "Name: Electrical, dtype: int64"
      ]
     },
     "execution_count": 142,
     "metadata": {},
     "output_type": "execute_result"
    }
   ],
   "source": [
    "alldata['Electrical'].value_counts(dropna=False)"
   ]
  },
  {
   "cell_type": "code",
   "execution_count": 143,
   "metadata": {},
   "outputs": [],
   "source": [
    "alldata['Electrical'] = alldata['Electrical'].fillna('SBrkr')"
   ]
  },
  {
   "cell_type": "code",
   "execution_count": 144,
   "metadata": {},
   "outputs": [
    {
     "data": {
      "text/plain": [
       "0.0    1705\n",
       "1.0    1172\n",
       "2.0      38\n",
       "NaN       2\n",
       "3.0       2\n",
       "Name: BsmtFullBath, dtype: int64"
      ]
     },
     "execution_count": 144,
     "metadata": {},
     "output_type": "execute_result"
    }
   ],
   "source": [
    "alldata['BsmtFullBath'].value_counts(dropna=False)"
   ]
  },
  {
   "cell_type": "code",
   "execution_count": 145,
   "metadata": {},
   "outputs": [],
   "source": [
    "alldata['BsmtFullBath'] = alldata['BsmtFullBath'].fillna(0.0)"
   ]
  },
  {
   "cell_type": "code",
   "execution_count": 146,
   "metadata": {},
   "outputs": [
    {
     "data": {
      "text/plain": [
       "2120   NaN\n",
       "Name: BsmtFinSF1, dtype: float64"
      ]
     },
     "execution_count": 146,
     "metadata": {},
     "output_type": "execute_result"
    }
   ],
   "source": [
    "alldata['BsmtFinSF1'][alldata['BsmtFinSF1'].isna()]"
   ]
  },
  {
   "cell_type": "code",
   "execution_count": 147,
   "metadata": {},
   "outputs": [],
   "source": [
    "alldata.loc[2120,'BsmtFinSF1'] = 0\n",
    "alldata.loc[2120,'BsmtFinSF2'] = 0\n",
    "alldata.loc[2120,'TotalBsmtSF'] = 0\n",
    "alldata.loc[2120,'BsmtUnfSF'] = 0\n"
   ]
  },
  {
   "cell_type": "code",
   "execution_count": 148,
   "metadata": {},
   "outputs": [
    {
     "data": {
      "text/html": [
       "<div>\n",
       "<style scoped>\n",
       "    .dataframe tbody tr th:only-of-type {\n",
       "        vertical-align: middle;\n",
       "    }\n",
       "\n",
       "    .dataframe tbody tr th {\n",
       "        vertical-align: top;\n",
       "    }\n",
       "\n",
       "    .dataframe thead th {\n",
       "        text-align: right;\n",
       "    }\n",
       "</style>\n",
       "<table border=\"1\" class=\"dataframe\">\n",
       "  <thead>\n",
       "    <tr style=\"text-align: right;\">\n",
       "      <th></th>\n",
       "      <th>TotalBsmtSF</th>\n",
       "      <th>BsmtFinType2</th>\n",
       "    </tr>\n",
       "  </thead>\n",
       "  <tbody>\n",
       "    <tr>\n",
       "      <th>332</th>\n",
       "      <td>3206.0</td>\n",
       "      <td>NaN</td>\n",
       "    </tr>\n",
       "  </tbody>\n",
       "</table>\n",
       "</div>"
      ],
      "text/plain": [
       "     TotalBsmtSF BsmtFinType2\n",
       "332       3206.0          NaN"
      ]
     },
     "execution_count": 148,
     "metadata": {},
     "output_type": "execute_result"
    }
   ],
   "source": [
    "alldata[['TotalBsmtSF','BsmtFinType2']][alldata['BsmtFinType2'].isna() & (alldata['TotalBsmtSF'] > 0)]"
   ]
  },
  {
   "cell_type": "code",
   "execution_count": 149,
   "metadata": {},
   "outputs": [],
   "source": [
    "alldata.loc[332,'BsmtFinType2'] = 'Unf'"
   ]
  },
  {
   "cell_type": "code",
   "execution_count": 150,
   "metadata": {},
   "outputs": [],
   "source": [
    "alldata['BsmtFinType2'] = alldata['BsmtFinType2'].fillna('None')"
   ]
  },
  {
   "cell_type": "code",
   "execution_count": 151,
   "metadata": {},
   "outputs": [
    {
     "data": {
      "text/plain": [
       "0.0    2742\n",
       "1.0     171\n",
       "2.0       4\n",
       "NaN       2\n",
       "Name: BsmtHalfBath, dtype: int64"
      ]
     },
     "execution_count": 151,
     "metadata": {},
     "output_type": "execute_result"
    }
   ],
   "source": [
    "alldata['BsmtHalfBath'].value_counts(dropna=False)"
   ]
  },
  {
   "cell_type": "code",
   "execution_count": 152,
   "metadata": {},
   "outputs": [],
   "source": [
    "alldata['BsmtHalfBath'] = alldata['BsmtHalfBath'].fillna(0.0)"
   ]
  },
  {
   "cell_type": "code",
   "execution_count": null,
   "metadata": {},
   "outputs": [],
   "source": [
    "all_features['BsmtFinSF1'][all_features['BsmtFinSF1'].isna()]"
   ]
  },
  {
   "cell_type": "code",
   "execution_count": null,
   "metadata": {},
   "outputs": [],
   "source": [
    "all_features['BsmtFinSF2'][all_features['BsmtFinSF2'].isna()]"
   ]
  },
  {
   "cell_type": "code",
   "execution_count": null,
   "metadata": {},
   "outputs": [],
   "source": [
    "all_features['TotalBsmtSF'][all_features['TotalBsmtSF'].isna()]"
   ]
  },
  {
   "cell_type": "code",
   "execution_count": null,
   "metadata": {},
   "outputs": [],
   "source": [
    "all_features['BsmtUnfSF'][all_features['BsmtUnfSF'].isna()]"
   ]
  },
  {
   "cell_type": "code",
   "execution_count": null,
   "metadata": {},
   "outputs": [],
   "source": [
    "all_features.loc[2120,'BsmtQual']"
   ]
  },
  {
   "cell_type": "code",
   "execution_count": null,
   "metadata": {},
   "outputs": [],
   "source": [
    "all_features['BsmtFinType2'].value_counts(dropna=False)"
   ]
  },
  {
   "cell_type": "code",
   "execution_count": null,
   "metadata": {},
   "outputs": [],
   "source": [
    "all_features[['TotalBsmtSF','BsmtFinType2']][all_features['BsmtFinType2'].isna() & (all_features['TotalBsmtSF'] > 0)]"
   ]
  },
  {
   "cell_type": "code",
   "execution_count": null,
   "metadata": {},
   "outputs": [],
   "source": [
    "all_features.loc[332,'BsmtFinType2'] = 'Unf'"
   ]
  },
  {
   "cell_type": "code",
   "execution_count": null,
   "metadata": {},
   "outputs": [],
   "source": [
    "all_features['BsmtFinType2'] = all_features['BsmtFinType2'].fillna('None')"
   ]
  },
  {
   "cell_type": "code",
   "execution_count": null,
   "metadata": {},
   "outputs": [],
   "source": [
    "all_features.loc[2120,'BsmtFinSF1'] = 0\n",
    "all_features.loc[2120,'BsmtFinSF2'] = 0\n",
    "all_features.loc[2120,'TotalBsmtSF'] = 0\n",
    "all_features.loc[2120,'BsmtUnfSF'] = 0"
   ]
  },
  {
   "cell_type": "code",
   "execution_count": null,
   "metadata": {},
   "outputs": [],
   "source": [
    "all_features['BsmtHalfBath'].value_counts(dropna=False)"
   ]
  },
  {
   "cell_type": "code",
   "execution_count": null,
   "metadata": {},
   "outputs": [],
   "source": [
    "all_features['BsmtHalfBath'] = all_features['BsmtHalfBath'].fillna('0.0')"
   ]
  },
  {
   "cell_type": "code",
   "execution_count": null,
   "metadata": {},
   "outputs": [],
   "source": [
    "all_features['KitchenQual'].value_counts(dropna=False)"
   ]
  },
  {
   "cell_type": "code",
   "execution_count": null,
   "metadata": {},
   "outputs": [],
   "source": [
    "all_features['KitchenQual'] = all_features['KitchenQual'].fillna('TA')"
   ]
  },
  {
   "cell_type": "code",
   "execution_count": null,
   "metadata": {},
   "outputs": [],
   "source": [
    "all_features['Functional'].value_counts(dropna=False)"
   ]
  },
  {
   "cell_type": "code",
   "execution_count": null,
   "metadata": {},
   "outputs": [],
   "source": [
    "all_features['Functional'] = all_features['Functional'].fillna('Typ')"
   ]
  },
  {
   "cell_type": "code",
   "execution_count": null,
   "metadata": {},
   "outputs": [],
   "source": [
    "all_features['FireplaceQu'].value_counts(dropna=False)"
   ]
  },
  {
   "cell_type": "code",
   "execution_count": null,
   "metadata": {},
   "outputs": [],
   "source": [
    "all_features['FireplaceQu'] = all_features['FireplaceQu'].fillna('None')"
   ]
  },
  {
   "cell_type": "code",
   "execution_count": null,
   "metadata": {},
   "outputs": [],
   "source": [
    "all_features['GarageType'].value_counts(dropna=False)"
   ]
  },
  {
   "cell_type": "code",
   "execution_count": null,
   "metadata": {},
   "outputs": [],
   "source": [
    "all_features['GarageYrBlt'].value_counts(dropna=False)"
   ]
  },
  {
   "cell_type": "code",
   "execution_count": null,
   "metadata": {},
   "outputs": [],
   "source": [
    "all_features['GarageFinish'].value_counts(dropna=False)"
   ]
  },
  {
   "cell_type": "code",
   "execution_count": null,
   "metadata": {},
   "outputs": [],
   "source": [
    "all_features['GarageCars'].value_counts(dropna=False)"
   ]
  },
  {
   "cell_type": "code",
   "execution_count": null,
   "metadata": {},
   "outputs": [],
   "source": [
    "all_features['GarageQual'].value_counts(dropna=False)"
   ]
  },
  {
   "cell_type": "code",
   "execution_count": null,
   "metadata": {},
   "outputs": [],
   "source": [
    "all_features['GarageCond'].value_counts(dropna=False)"
   ]
  },
  {
   "cell_type": "code",
   "execution_count": null,
   "metadata": {},
   "outputs": [],
   "source": [
    "all_features[['GarageType','GarageFinish','GarageQual','GarageCond','GarageCars']][all_features['GarageCars'].isna()]"
   ]
  },
  {
   "cell_type": "code",
   "execution_count": null,
   "metadata": {},
   "outputs": [],
   "source": [
    "all_features.loc[2576,'GarageFinish'] = 'Unf'\n",
    "all_features.loc[2576,'GarageQual'] = 'TA'\n",
    "all_features.loc[2576,'GarageCond'] = 'TA'\n",
    "all_features.loc[2576,'GarageCars'] = 2.0"
   ]
  },
  {
   "cell_type": "code",
   "execution_count": null,
   "metadata": {},
   "outputs": [],
   "source": [
    "all_features['GarageCars']"
   ]
  },
  {
   "cell_type": "code",
   "execution_count": null,
   "metadata": {},
   "outputs": [],
   "source": [
    "all_features[['GarageType','GarageFinish','GarageQual','GarageCond','GarageCars']][(all_features['GarageCars'] > 0) & \n",
    "                                                                                   (all_features['GarageCond'].isna())]"
   ]
  },
  {
   "cell_type": "code",
   "execution_count": null,
   "metadata": {},
   "outputs": [],
   "source": [
    "all_features.loc[2126,'GarageFinish'] = 'Unf'\n",
    "all_features.loc[2126,'GarageQual'] = 'TA'\n",
    "all_features.loc[2126,'GarageCond'] = 'TA'"
   ]
  },
  {
   "cell_type": "code",
   "execution_count": null,
   "metadata": {},
   "outputs": [],
   "source": [
    "all_features['GarageFinish'] = all_features['GarageFinish'].fillna('None')\n",
    "all_features['GarageQual'] = all_features['GarageQual'].fillna('None')\n",
    "all_features['GarageCond'] = all_features['GarageCond'].fillna('None')\n",
    "all_features['GarageType'] = all_features['GarageType'].fillna('None')"
   ]
  },
  {
   "cell_type": "code",
   "execution_count": null,
   "metadata": {},
   "outputs": [],
   "source": [
    "all_features = all_features.drop('GarageYrBlt',axis=1)"
   ]
  },
  {
   "cell_type": "code",
   "execution_count": null,
   "metadata": {},
   "outputs": [],
   "source": [
    "all_features['GarageArea'][all_features['GarageArea'].isna()]"
   ]
  },
  {
   "cell_type": "code",
   "execution_count": null,
   "metadata": {},
   "outputs": [],
   "source": [
    "p = skewtest(all_features['GarageArea'],nan_policy='omit')\n",
    "\n",
    "if p[1] < 0.05:\n",
    "    all_features['GarageArea'] = all_features['GarageArea'].fillna(all_features['GarageArea'].median())\n",
    "else:\n",
    "    all_features['GarageArea'] = all_features['GarageArea'].fillna(all_features['GarageArea'].mean())"
   ]
  },
  {
   "cell_type": "code",
   "execution_count": null,
   "metadata": {},
   "outputs": [],
   "source": [
    "all_features['PoolQC'].value_counts(dropna=False)"
   ]
  },
  {
   "cell_type": "code",
   "execution_count": null,
   "metadata": {},
   "outputs": [],
   "source": [
    "all_features['PoolQC'] = all_features['PoolQC'].fillna('None')"
   ]
  },
  {
   "cell_type": "code",
   "execution_count": null,
   "metadata": {},
   "outputs": [],
   "source": [
    "all_features['Fence'].value_counts(dropna=False)"
   ]
  },
  {
   "cell_type": "code",
   "execution_count": null,
   "metadata": {},
   "outputs": [],
   "source": [
    "all_features['Fence'] = all_features['Fence'].fillna('None')"
   ]
  },
  {
   "cell_type": "code",
   "execution_count": null,
   "metadata": {},
   "outputs": [],
   "source": [
    "all_features['MiscFeature'].value_counts(dropna=False)"
   ]
  },
  {
   "cell_type": "code",
   "execution_count": null,
   "metadata": {},
   "outputs": [],
   "source": [
    "all_features['MiscFeature'] = all_features['MiscFeature'].fillna('None')"
   ]
  },
  {
   "cell_type": "code",
   "execution_count": null,
   "metadata": {},
   "outputs": [],
   "source": [
    "all_features['SaleType'].value_counts(dropna=False)"
   ]
  },
  {
   "cell_type": "code",
   "execution_count": null,
   "metadata": {},
   "outputs": [],
   "source": [
    "all_features['SaleType'] = all_features['SaleType'].fillna('WD')"
   ]
  },
  {
   "cell_type": "markdown",
   "metadata": {},
   "source": [
    "#### Finally, I check for NaN features once again to make sure that they have all been dealt with, and save the cleaned data to a new .csv file"
   ]
  },
  {
   "cell_type": "code",
   "execution_count": null,
   "metadata": {},
   "outputs": [],
   "source": [
    "check_data_types(all_features,check_nans(all_features))"
   ]
  },
  {
   "cell_type": "code",
   "execution_count": null,
   "metadata": {},
   "outputs": [],
   "source": [
    "all_features.to_csv('all_features_no_nan.csv')"
   ]
  },
  {
   "cell_type": "code",
   "execution_count": 3,
   "metadata": {},
   "outputs": [],
   "source": [
    "alldata = pd.read_csv('all_features_no_nan.csv',index_col=0)"
   ]
  },
  {
   "cell_type": "code",
   "execution_count": 4,
   "metadata": {},
   "outputs": [
    {
     "data": {
      "text/plain": [
       "(2919, 79)"
      ]
     },
     "execution_count": 4,
     "metadata": {},
     "output_type": "execute_result"
    }
   ],
   "source": [
    "alldata.shape"
   ]
  },
  {
   "cell_type": "code",
   "execution_count": 5,
   "metadata": {},
   "outputs": [
    {
     "data": {
      "text/html": [
       "<div>\n",
       "<style scoped>\n",
       "    .dataframe tbody tr th:only-of-type {\n",
       "        vertical-align: middle;\n",
       "    }\n",
       "\n",
       "    .dataframe tbody tr th {\n",
       "        vertical-align: top;\n",
       "    }\n",
       "\n",
       "    .dataframe thead th {\n",
       "        text-align: right;\n",
       "    }\n",
       "</style>\n",
       "<table border=\"1\" class=\"dataframe\">\n",
       "  <thead>\n",
       "    <tr style=\"text-align: right;\">\n",
       "      <th></th>\n",
       "      <th>Id</th>\n",
       "      <th>MSSubClass</th>\n",
       "      <th>MSZoning</th>\n",
       "      <th>LotFrontage</th>\n",
       "      <th>LotArea</th>\n",
       "      <th>Street</th>\n",
       "      <th>Alley</th>\n",
       "      <th>LotShape</th>\n",
       "      <th>LandContour</th>\n",
       "      <th>Utilities</th>\n",
       "      <th>...</th>\n",
       "      <th>ScreenPorch</th>\n",
       "      <th>PoolArea</th>\n",
       "      <th>PoolQC</th>\n",
       "      <th>Fence</th>\n",
       "      <th>MiscFeature</th>\n",
       "      <th>MiscVal</th>\n",
       "      <th>MoSold</th>\n",
       "      <th>YrSold</th>\n",
       "      <th>SaleType</th>\n",
       "      <th>SaleCondition</th>\n",
       "    </tr>\n",
       "  </thead>\n",
       "  <tbody>\n",
       "    <tr>\n",
       "      <th>0</th>\n",
       "      <td>1</td>\n",
       "      <td>60</td>\n",
       "      <td>RL</td>\n",
       "      <td>65.0</td>\n",
       "      <td>8450</td>\n",
       "      <td>Pave</td>\n",
       "      <td>None</td>\n",
       "      <td>Reg</td>\n",
       "      <td>Lvl</td>\n",
       "      <td>AllPub</td>\n",
       "      <td>...</td>\n",
       "      <td>0</td>\n",
       "      <td>0</td>\n",
       "      <td>None</td>\n",
       "      <td>None</td>\n",
       "      <td>None</td>\n",
       "      <td>0</td>\n",
       "      <td>2</td>\n",
       "      <td>2008</td>\n",
       "      <td>WD</td>\n",
       "      <td>Normal</td>\n",
       "    </tr>\n",
       "    <tr>\n",
       "      <th>1</th>\n",
       "      <td>2</td>\n",
       "      <td>20</td>\n",
       "      <td>RL</td>\n",
       "      <td>80.0</td>\n",
       "      <td>9600</td>\n",
       "      <td>Pave</td>\n",
       "      <td>None</td>\n",
       "      <td>Reg</td>\n",
       "      <td>Lvl</td>\n",
       "      <td>AllPub</td>\n",
       "      <td>...</td>\n",
       "      <td>0</td>\n",
       "      <td>0</td>\n",
       "      <td>None</td>\n",
       "      <td>None</td>\n",
       "      <td>None</td>\n",
       "      <td>0</td>\n",
       "      <td>5</td>\n",
       "      <td>2007</td>\n",
       "      <td>WD</td>\n",
       "      <td>Normal</td>\n",
       "    </tr>\n",
       "    <tr>\n",
       "      <th>2</th>\n",
       "      <td>3</td>\n",
       "      <td>60</td>\n",
       "      <td>RL</td>\n",
       "      <td>68.0</td>\n",
       "      <td>11250</td>\n",
       "      <td>Pave</td>\n",
       "      <td>None</td>\n",
       "      <td>IR1</td>\n",
       "      <td>Lvl</td>\n",
       "      <td>AllPub</td>\n",
       "      <td>...</td>\n",
       "      <td>0</td>\n",
       "      <td>0</td>\n",
       "      <td>None</td>\n",
       "      <td>None</td>\n",
       "      <td>None</td>\n",
       "      <td>0</td>\n",
       "      <td>9</td>\n",
       "      <td>2008</td>\n",
       "      <td>WD</td>\n",
       "      <td>Normal</td>\n",
       "    </tr>\n",
       "    <tr>\n",
       "      <th>3</th>\n",
       "      <td>4</td>\n",
       "      <td>70</td>\n",
       "      <td>RL</td>\n",
       "      <td>60.0</td>\n",
       "      <td>9550</td>\n",
       "      <td>Pave</td>\n",
       "      <td>None</td>\n",
       "      <td>IR1</td>\n",
       "      <td>Lvl</td>\n",
       "      <td>AllPub</td>\n",
       "      <td>...</td>\n",
       "      <td>0</td>\n",
       "      <td>0</td>\n",
       "      <td>None</td>\n",
       "      <td>None</td>\n",
       "      <td>None</td>\n",
       "      <td>0</td>\n",
       "      <td>2</td>\n",
       "      <td>2006</td>\n",
       "      <td>WD</td>\n",
       "      <td>Abnorml</td>\n",
       "    </tr>\n",
       "    <tr>\n",
       "      <th>4</th>\n",
       "      <td>5</td>\n",
       "      <td>60</td>\n",
       "      <td>RL</td>\n",
       "      <td>84.0</td>\n",
       "      <td>14260</td>\n",
       "      <td>Pave</td>\n",
       "      <td>None</td>\n",
       "      <td>IR1</td>\n",
       "      <td>Lvl</td>\n",
       "      <td>AllPub</td>\n",
       "      <td>...</td>\n",
       "      <td>0</td>\n",
       "      <td>0</td>\n",
       "      <td>None</td>\n",
       "      <td>None</td>\n",
       "      <td>None</td>\n",
       "      <td>0</td>\n",
       "      <td>12</td>\n",
       "      <td>2008</td>\n",
       "      <td>WD</td>\n",
       "      <td>Normal</td>\n",
       "    </tr>\n",
       "  </tbody>\n",
       "</table>\n",
       "<p>5 rows × 79 columns</p>\n",
       "</div>"
      ],
      "text/plain": [
       "   Id  MSSubClass MSZoning  LotFrontage  LotArea Street Alley LotShape  \\\n",
       "0   1          60       RL         65.0     8450   Pave  None      Reg   \n",
       "1   2          20       RL         80.0     9600   Pave  None      Reg   \n",
       "2   3          60       RL         68.0    11250   Pave  None      IR1   \n",
       "3   4          70       RL         60.0     9550   Pave  None      IR1   \n",
       "4   5          60       RL         84.0    14260   Pave  None      IR1   \n",
       "\n",
       "  LandContour Utilities  ... ScreenPorch PoolArea PoolQC Fence MiscFeature  \\\n",
       "0         Lvl    AllPub  ...           0        0   None  None        None   \n",
       "1         Lvl    AllPub  ...           0        0   None  None        None   \n",
       "2         Lvl    AllPub  ...           0        0   None  None        None   \n",
       "3         Lvl    AllPub  ...           0        0   None  None        None   \n",
       "4         Lvl    AllPub  ...           0        0   None  None        None   \n",
       "\n",
       "  MiscVal MoSold  YrSold  SaleType  SaleCondition  \n",
       "0       0      2    2008        WD         Normal  \n",
       "1       0      5    2007        WD         Normal  \n",
       "2       0      9    2008        WD         Normal  \n",
       "3       0      2    2006        WD        Abnorml  \n",
       "4       0     12    2008        WD         Normal  \n",
       "\n",
       "[5 rows x 79 columns]"
      ]
     },
     "execution_count": 5,
     "metadata": {},
     "output_type": "execute_result"
    }
   ],
   "source": [
    "alldata.head()"
   ]
  },
  {
   "cell_type": "code",
   "execution_count": null,
   "metadata": {},
   "outputs": [],
   "source": []
  },
  {
   "cell_type": "code",
   "execution_count": 6,
   "metadata": {},
   "outputs": [
    {
     "data": {
      "text/plain": [
       "(2010, 2010, 2010)"
      ]
     },
     "execution_count": 6,
     "metadata": {},
     "output_type": "execute_result"
    }
   ],
   "source": [
    "alldata['YrSold'].max(), alldata['YearBuilt'].max(), alldata['YearRemodAdd'].max()"
   ]
  },
  {
   "cell_type": "code",
   "execution_count": 7,
   "metadata": {},
   "outputs": [],
   "source": [
    "alldata['YrSold'] = 2010 - alldata['YrSold']\n",
    "alldata['YearBuilt'] = 2010 - alldata['YearBuilt']\n",
    "alldata['YearRemodAdd'] = 2010 - alldata['YearRemodAdd']"
   ]
  },
  {
   "cell_type": "code",
   "execution_count": 8,
   "metadata": {},
   "outputs": [
    {
     "data": {
      "text/plain": [
       "20     1079\n",
       "60      575\n",
       "50      287\n",
       "120     182\n",
       "30      139\n",
       "70      128\n",
       "160     128\n",
       "80      118\n",
       "90      109\n",
       "190      61\n",
       "85       48\n",
       "75       23\n",
       "45       18\n",
       "180      17\n",
       "40        6\n",
       "150       1\n",
       "Name: MSSubClass, dtype: int64"
      ]
     },
     "execution_count": 8,
     "metadata": {},
     "output_type": "execute_result"
    }
   ],
   "source": [
    "alldata['MSSubClass'].value_counts()"
   ]
  },
  {
   "cell_type": "code",
   "execution_count": 9,
   "metadata": {},
   "outputs": [],
   "source": [
    "alldata['MSSubClass'] = alldata['MSSubClass'].astype('str')"
   ]
  },
  {
   "cell_type": "code",
   "execution_count": 10,
   "metadata": {},
   "outputs": [],
   "source": [
    "alldata['MoSold'] = alldata['MoSold'].astype('str')"
   ]
  },
  {
   "cell_type": "code",
   "execution_count": 11,
   "metadata": {},
   "outputs": [],
   "source": [
    "alldata.to_csv('all_data_base.csv')"
   ]
  },
  {
   "cell_type": "code",
   "execution_count": 12,
   "metadata": {},
   "outputs": [],
   "source": [
    "alldata = pd.read_csv('all_data_base.csv',index_col=0)"
   ]
  },
  {
   "cell_type": "markdown",
   "metadata": {},
   "source": [
    "#### There are a couple of categorical features which are represented by integers and thus would be treated by an algorithm as continuous, so I'll convert them to str type"
   ]
  },
  {
   "cell_type": "code",
   "execution_count": 13,
   "metadata": {},
   "outputs": [],
   "source": [
    "alldata['MSSubClass'] = alldata['MSSubClass'].astype('str')\n",
    "alldata['MoSold'] = alldata['MoSold'].astype('str')"
   ]
  },
  {
   "cell_type": "markdown",
   "metadata": {},
   "source": [
    "#### From here on I will be employing feature engineering to generate new features for the data, so I will separate the data at this point from the feature engineered data, in order to see which performs the best"
   ]
  },
  {
   "cell_type": "code",
   "execution_count": 14,
   "metadata": {},
   "outputs": [],
   "source": [
    "basic_data = alldata.copy()"
   ]
  },
  {
   "cell_type": "markdown",
   "metadata": {},
   "source": [
    "#### Here is the distribution of the target variable. It is visibly skewed, with a few extreme values to the right."
   ]
  },
  {
   "cell_type": "code",
   "execution_count": 27,
   "metadata": {},
   "outputs": [
    {
     "data": {
      "text/plain": [
       "<AxesSubplot:xlabel='SalePrice', ylabel='Count'>"
      ]
     },
     "execution_count": 27,
     "metadata": {},
     "output_type": "execute_result"
    },
    {
     "data": {
      "image/png": "[encoded data removed]",
      "text/plain": [
       "<Figure size 720x720 with 1 Axes>"
      ]
     },
     "metadata": {
      "needs_background": "light"
     },
     "output_type": "display_data"
    }
   ],
   "source": [
    "plt.figure(figsize=(10, 10))\n",
    "sns.histplot(y_train)"
   ]
  },
  {
   "cell_type": "markdown",
   "metadata": {},
   "source": [
    "#### Here is a helper function to plot a correlation heatmap between the numerical variables, which I'll use later."
   ]
  },
  {
   "cell_type": "code",
   "execution_count": 28,
   "metadata": {},
   "outputs": [],
   "source": [
    "def plot_correlation(xdata,ydata,ylabel):\n",
    "    numeric_cols = [col for col in xdata.columns if (xdata[col].dtype == 'float64') or (xdata[col].dtype == 'int64')]\n",
    "    data_numeric = xdata[numeric_cols]\n",
    "    data_numeric[ylabel] = ydata\n",
    "    sns.heatmap(data_numeric.corr(),cmap=\"YlGnBu\")"
   ]
  },
  {
   "cell_type": "markdown",
   "metadata": {},
   "source": [
    "#### A lot of categorical features have a clear numerical hierarchy, ie. they can be represented by ascending values with higher representing 'better', so I will convert these features."
   ]
  },
  {
   "cell_type": "code",
   "execution_count": 29,
   "metadata": {},
   "outputs": [],
   "source": [
    "alldata['LandSlope'] = alldata['LandSlope'].replace('Gtl',2)\n",
    "alldata['LandSlope'] = alldata['LandSlope'].replace('Mod',1)\n",
    "alldata['LandSlope'] = alldata['LandSlope'].replace('Sev',0)\n",
    "\n",
    "alldata['ExterQual'] = alldata['ExterQual'].replace('Ex',5)\n",
    "alldata['ExterQual'] = alldata['ExterQual'].replace('Gd',4)\n",
    "alldata['ExterQual'] = alldata['ExterQual'].replace('TA',3)\n",
    "alldata['ExterQual'] = alldata['ExterQual'].replace('Fa',2)\n",
    "alldata['ExterQual'] = alldata['ExterQual'].replace('Po',1)\n",
    "\n",
    "alldata['ExterCond'] = alldata['ExterCond'].replace('Ex',5)\n",
    "alldata['ExterCond'] = alldata['ExterCond'].replace('Gd',4)\n",
    "alldata['ExterCond'] = alldata['ExterCond'].replace('TA',3)\n",
    "alldata['ExterCond'] = alldata['ExterCond'].replace('Fa',2)\n",
    "alldata['ExterCond'] = alldata['ExterCond'].replace('Po',1)\n",
    "\n",
    "alldata['Basement'] = alldata['BsmtQual'].apply(lambda x: 0 if x == 'None' else 1)\n",
    "alldata['BsmtQual'] = alldata['BsmtQual'].replace('Ex',5)\n",
    "alldata['BsmtQual'] = alldata['BsmtQual'].replace('Gd',4)\n",
    "alldata['BsmtQual'] = alldata['BsmtQual'].replace('TA',3)\n",
    "alldata['BsmtQual'] = alldata['BsmtQual'].replace('Fa',2)\n",
    "alldata['BsmtQual'] = alldata['BsmtQual'].replace('None',0)\n",
    "\n",
    "alldata['BsmtExposure'] = alldata['BsmtExposure'].replace('Gd',4)\n",
    "alldata['BsmtExposure'] = alldata['BsmtExposure'].replace('Av',3)\n",
    "alldata['BsmtExposure'] = alldata['BsmtExposure'].replace('Mn',2)\n",
    "alldata['BsmtExposure'] = alldata['BsmtExposure'].replace('No',1)\n",
    "alldata['BsmtExposure'] = alldata['BsmtExposure'].replace('None',0)\n",
    "\n",
    "alldata['BsmtCond'] = alldata['BsmtCond'].replace('Ex',5)\n",
    "alldata['BsmtCond'] = alldata['BsmtCond'].replace('Gd',4)\n",
    "alldata['BsmtCond'] = alldata['BsmtCond'].replace('TA',3)\n",
    "alldata['BsmtCond'] = alldata['BsmtCond'].replace('Fa',2)\n",
    "alldata['BsmtCond'] = alldata['BsmtCond'].replace('Po',1)\n",
    "alldata['BsmtCond'] = alldata['BsmtCond'].replace('None',0)\n",
    "\n",
    "alldata['HeatingQC'] = alldata['HeatingQC'].replace('Ex',5)\n",
    "alldata['HeatingQC'] = alldata['HeatingQC'].replace('Gd',4)\n",
    "alldata['HeatingQC'] = alldata['HeatingQC'].replace('TA',3)\n",
    "alldata['HeatingQC'] = alldata['HeatingQC'].replace('Fa',2)\n",
    "alldata['HeatingQC'] = alldata['HeatingQC'].replace('Po',1)\n",
    "\n",
    "alldata['KitchenQual'] = alldata['KitchenQual'].replace('Ex',5)\n",
    "alldata['KitchenQual'] = alldata['KitchenQual'].replace('Gd',4)\n",
    "alldata['KitchenQual'] = alldata['KitchenQual'].replace('TA',3)\n",
    "alldata['KitchenQual'] = alldata['KitchenQual'].replace('Fa',2)\n",
    "alldata['KitchenQual'] = alldata['KitchenQual'].replace('Po',1)\n",
    "\n",
    "alldata['Functional'] = alldata['Functional'].replace('Typ',7)\n",
    "alldata['Functional'] = alldata['Functional'].replace('Min1',6)\n",
    "alldata['Functional'] = alldata['Functional'].replace('Min2',5)\n",
    "alldata['Functional'] = alldata['Functional'].replace('Mod',4)\n",
    "alldata['Functional'] = alldata['Functional'].replace('Maj1',3)\n",
    "alldata['Functional'] = alldata['Functional'].replace('Maj2',2)\n",
    "alldata['Functional'] = alldata['Functional'].replace('Sev',1)\n",
    "alldata['Functional'] = alldata['Functional'].replace('Sal',0)\n",
    "\n",
    "alldata['FireplaceQu'] = alldata['FireplaceQu'].replace('Ex',5)\n",
    "alldata['FireplaceQu'] = alldata['FireplaceQu'].replace('Gd',4)\n",
    "alldata['FireplaceQu'] = alldata['FireplaceQu'].replace('TA',3)\n",
    "alldata['FireplaceQu'] = alldata['FireplaceQu'].replace('Fa',2)\n",
    "alldata['FireplaceQu'] = alldata['FireplaceQu'].replace('Po',1)\n",
    "alldata['FireplaceQu'] = alldata['FireplaceQu'].replace('None',0)\n",
    "\n",
    "alldata['GarageFinish'] = alldata['GarageFinish'].replace('Fin',3)\n",
    "alldata['GarageFinish'] = alldata['GarageFinish'].replace('RFn',2)\n",
    "alldata['GarageFinish'] = alldata['GarageFinish'].replace('Unf',1)\n",
    "alldata['GarageFinish'] = alldata['GarageFinish'].replace('None',0)\n",
    "\n",
    "alldata['GarageQual'] = alldata['GarageQual'].replace('Ex',5)\n",
    "alldata['GarageQual'] = alldata['GarageQual'].replace('Gd',4)\n",
    "alldata['GarageQual'] = alldata['GarageQual'].replace('TA',3)\n",
    "alldata['GarageQual'] = alldata['GarageQual'].replace('Fa',2)\n",
    "alldata['GarageQual'] = alldata['GarageQual'].replace('Po',1)\n",
    "alldata['GarageQual'] = alldata['GarageQual'].replace('None',0)\n",
    "\n",
    "alldata['GarageCond'] = alldata['GarageCond'].replace('Ex',5)\n",
    "alldata['GarageCond'] = alldata['GarageCond'].replace('Gd',4)\n",
    "alldata['GarageCond'] = alldata['GarageCond'].replace('TA',3)\n",
    "alldata['GarageCond'] = alldata['GarageCond'].replace('Fa',2)\n",
    "alldata['GarageCond'] = alldata['GarageCond'].replace('Po',1)\n",
    "alldata['GarageCond'] = alldata['GarageCond'].replace('None',0)\n",
    "\n"
   ]
  },
  {
   "cell_type": "markdown",
   "metadata": {},
   "source": [
    "#### At this point, I save the data after one-hot encoding the categorical features, in the next steps I'll create some new features."
   ]
  },
  {
   "cell_type": "code",
   "execution_count": 415,
   "metadata": {},
   "outputs": [],
   "source": [
    "pd.get_dummies(alldata).to_csv('basic_dummies.csv')"
   ]
  },
  {
   "cell_type": "markdown",
   "metadata": {},
   "source": [
    "#### Here is the heatmap of all the current features. Most aren't extremely highly correlated, but there are a few exceptions. The target variable seems most correlated with OverallQual and GrLivArea (the above ground square footage)"
   ]
  },
  {
   "cell_type": "code",
   "execution_count": 416,
   "metadata": {},
   "outputs": [
    {
     "name": "stderr",
     "output_type": "stream",
     "text": [
      "<ipython-input-413-6914a8e293c0>:4: SettingWithCopyWarning: \n",
      "A value is trying to be set on a copy of a slice from a DataFrame.\n",
      "Try using .loc[row_indexer,col_indexer] = value instead\n",
      "\n",
      "See the caveats in the documentation: https://pandas.pydata.org/pandas-docs/stable/user_guide/indexing.html#returning-a-view-versus-a-copy\n",
      "  data_numeric[ylabel] = ydata\n"
     ]
    },
    {
     "data": {
      "image/png": "[encoded data removed]",
      "text/plain": [
       "<Figure size 864x864 with 2 Axes>"
      ]
     },
     "metadata": {
      "needs_background": "light"
     },
     "output_type": "display_data"
    }
   ],
   "source": [
    "plt.figure(figsize=(12,12))\n",
    "plot_correlation(alldata.iloc[:1460],y_train,\"SalePrice\")"
   ]
  },
  {
   "cell_type": "markdown",
   "metadata": {},
   "source": [
    "#### Here, I create some strip plots of the most important predictor variables."
   ]
  },
  {
   "cell_type": "code",
   "execution_count": 417,
   "metadata": {},
   "outputs": [
    {
     "data": {
      "text/plain": [
       "<AxesSubplot:xlabel='GarageCars', ylabel='SalePrice'>"
      ]
     },
     "execution_count": 417,
     "metadata": {},
     "output_type": "execute_result"
    },
    {
     "data": {
      "image/png": "[encoded data removed]",
      "text/plain": [
       "<Figure size 1440x504 with 3 Axes>"
      ]
     },
     "metadata": {
      "needs_background": "light"
     },
     "output_type": "display_data"
    }
   ],
   "source": [
    "figure, ax = plt.subplots(1,3, figsize = (20,7))\n",
    "sns.stripplot(x=alldata.loc[:1460,'OverallQual'],y=y_train,ax=ax[0])\n",
    "sns.stripplot(x=alldata.loc[:1460,'FullBath'],y=y_train,ax=ax[1])\n",
    "sns.stripplot(x=alldata.loc[:1460,'GarageCars'],y=y_train,ax=ax[2])"
   ]
  },
  {
   "cell_type": "code",
   "execution_count": 418,
   "metadata": {},
   "outputs": [
    {
     "data": {
      "text/plain": [
       "<AxesSubplot:xlabel='YrSold', ylabel='SalePrice'>"
      ]
     },
     "execution_count": 418,
     "metadata": {},
     "output_type": "execute_result"
    },
    {
     "data": {
      "image/png": "[encoded data removed]",
      "text/plain": [
       "<Figure size 1440x504 with 3 Axes>"
      ]
     },
     "metadata": {
      "needs_background": "light"
     },
     "output_type": "display_data"
    }
   ],
   "source": [
    "figure, ax = plt.subplots(1,3, figsize = (20,7))\n",
    "sns.stripplot(x=alldata.loc[:1460,'TotRmsAbvGrd'],y=y_train,ax=ax[0])\n",
    "sns.stripplot(x=alldata.loc[:1460,'Fireplaces'],y=y_train,ax=ax[1])\n",
    "sns.stripplot(x=alldata.loc[:1460,'YrSold'],y=y_train,ax=ax[2])"
   ]
  },
  {
   "cell_type": "markdown",
   "metadata": {},
   "source": [
    "#### Based on the plots, some values provide little to no new information, so I will combine them."
   ]
  },
  {
   "cell_type": "code",
   "execution_count": 419,
   "metadata": {},
   "outputs": [
    {
     "name": "stderr",
     "output_type": "stream",
     "text": [
      "<ipython-input-419-98a878290ac8>:1: SettingWithCopyWarning: \n",
      "A value is trying to be set on a copy of a slice from a DataFrame\n",
      "\n",
      "See the caveats in the documentation: https://pandas.pydata.org/pandas-docs/stable/user_guide/indexing.html#returning-a-view-versus-a-copy\n",
      "  alldata['GarageCars'][alldata['GarageCars'] == 4] = 3\n",
      "<ipython-input-419-98a878290ac8>:2: SettingWithCopyWarning: \n",
      "A value is trying to be set on a copy of a slice from a DataFrame\n",
      "\n",
      "See the caveats in the documentation: https://pandas.pydata.org/pandas-docs/stable/user_guide/indexing.html#returning-a-view-versus-a-copy\n",
      "  alldata['TotRmsAbvGrd'][alldata['TotRmsAbvGrd'] > 10] = 10\n",
      "<ipython-input-419-98a878290ac8>:3: SettingWithCopyWarning: \n",
      "A value is trying to be set on a copy of a slice from a DataFrame\n",
      "\n",
      "See the caveats in the documentation: https://pandas.pydata.org/pandas-docs/stable/user_guide/indexing.html#returning-a-view-versus-a-copy\n",
      "  alldata['Fireplaces'][alldata['Fireplaces'] > 2] = 2\n"
     ]
    }
   ],
   "source": [
    "alldata['GarageCars'][alldata['GarageCars'] == 4] = 3\n",
    "alldata['TotRmsAbvGrd'][alldata['TotRmsAbvGrd'] > 10] = 10\n",
    "alldata['Fireplaces'][alldata['Fireplaces'] > 2] = 2\n"
   ]
  },
  {
   "cell_type": "code",
   "execution_count": 420,
   "metadata": {},
   "outputs": [],
   "source": [
    "def normalize(col):\n",
    "    cmax = col.max()\n",
    "    cmin = col.min()\n",
    "    ccopy = col.copy()\n",
    "    for i in range(len(col)):\n",
    "        ccopy[i] = col[i] - cmin / (cmax - cmin)\n",
    "    return ccopy"
   ]
  },
  {
   "cell_type": "markdown",
   "metadata": {},
   "source": [
    "#### Here I engineer some new features from some of the more relevant features, both linear and nonlinear (multiplicative)"
   ]
  },
  {
   "cell_type": "code",
   "execution_count": 421,
   "metadata": {},
   "outputs": [],
   "source": [
    "alldata['Qual_Cond'] = alldata['OverallQual'] + alldata['OverallCond']\n",
    "\n",
    "alldata['TotalBath'] = alldata['FullBath'] + alldata['BsmtFullBath'] + 0.5*(alldata['HalfBath'] + alldata['BsmtHalfBath'])\n",
    "alldata['Bath_Above'] = alldata['FullBath'] + 0.5*alldata['HalfBath']\n",
    "\n",
    "alldata['Remodeled'] = alldata['YearBuilt'] - alldata['YearRemodAdd']\n",
    "alldata['Remodeled'] = alldata['Remodeled'].apply(lambda x: 1 if x > 0 else 0)\n",
    "\n",
    "alldata['TotalPorch'] = alldata['WoodDeckSF'] + alldata['OpenPorchSF'] + alldata['EnclosedPorch'] + alldata['3SsnPorch'] + alldata['ScreenPorch']\n",
    "\n",
    "alldata['Age'] = alldata['YearBuilt'].apply(lambda x: np.floor((x+1)/10))\n",
    "alldata['GarageQual_Cond'] = alldata['GarageQual'] + alldata['GarageCond']\n",
    "\n",
    "alldata['Qual_SFT'] = alldata['OverallQual'] * alldata['GrLivArea']\n",
    "\n",
    "alldata['Qual_Rooms'] = alldata['TotRmsAbvGrd'] * alldata['OverallQual']"
   ]
  },
  {
   "cell_type": "markdown",
   "metadata": {},
   "source": [
    "#### I also drop some of the less valuable features whose relevance will be captured in the new features."
   ]
  },
  {
   "cell_type": "code",
   "execution_count": 422,
   "metadata": {},
   "outputs": [],
   "source": [
    "alldata = alldata.drop(['YearBuilt','WoodDeckSF','OpenPorchSF','EnclosedPorch','3SsnPorch','ScreenPorch','Id'],axis=1)"
   ]
  },
  {
   "cell_type": "markdown",
   "metadata": {},
   "source": [
    "#### Now I have two sets of data, the 'basic' features, and the data with the newly engineered features."
   ]
  },
  {
   "cell_type": "code",
   "execution_count": 423,
   "metadata": {},
   "outputs": [],
   "source": [
    "basic_dummies = pd.read_csv('basic_dummies.csv',index_col=0)\n",
    "data_dummies = pd.get_dummies(alldata)"
   ]
  },
  {
   "cell_type": "code",
   "execution_count": 424,
   "metadata": {},
   "outputs": [
    {
     "data": {
      "text/html": [
       "<div>\n",
       "<style scoped>\n",
       "    .dataframe tbody tr th:only-of-type {\n",
       "        vertical-align: middle;\n",
       "    }\n",
       "\n",
       "    .dataframe tbody tr th {\n",
       "        vertical-align: top;\n",
       "    }\n",
       "\n",
       "    .dataframe thead th {\n",
       "        text-align: right;\n",
       "    }\n",
       "</style>\n",
       "<table border=\"1\" class=\"dataframe\">\n",
       "  <thead>\n",
       "    <tr style=\"text-align: right;\">\n",
       "      <th></th>\n",
       "      <th>Id</th>\n",
       "      <th>LotFrontage</th>\n",
       "      <th>LotArea</th>\n",
       "      <th>LandSlope</th>\n",
       "      <th>OverallQual</th>\n",
       "      <th>OverallCond</th>\n",
       "      <th>YearBuilt</th>\n",
       "      <th>YearRemodAdd</th>\n",
       "      <th>MasVnrArea</th>\n",
       "      <th>ExterQual</th>\n",
       "      <th>...</th>\n",
       "      <th>SaleType_ConLw</th>\n",
       "      <th>SaleType_New</th>\n",
       "      <th>SaleType_Oth</th>\n",
       "      <th>SaleType_WD</th>\n",
       "      <th>SaleCondition_Abnorml</th>\n",
       "      <th>SaleCondition_AdjLand</th>\n",
       "      <th>SaleCondition_Alloca</th>\n",
       "      <th>SaleCondition_Family</th>\n",
       "      <th>SaleCondition_Normal</th>\n",
       "      <th>SaleCondition_Partial</th>\n",
       "    </tr>\n",
       "  </thead>\n",
       "  <tbody>\n",
       "    <tr>\n",
       "      <th>0</th>\n",
       "      <td>1</td>\n",
       "      <td>65.0</td>\n",
       "      <td>8450</td>\n",
       "      <td>2</td>\n",
       "      <td>7</td>\n",
       "      <td>5</td>\n",
       "      <td>7</td>\n",
       "      <td>7</td>\n",
       "      <td>196.0</td>\n",
       "      <td>4</td>\n",
       "      <td>...</td>\n",
       "      <td>0</td>\n",
       "      <td>0</td>\n",
       "      <td>0</td>\n",
       "      <td>1</td>\n",
       "      <td>0</td>\n",
       "      <td>0</td>\n",
       "      <td>0</td>\n",
       "      <td>0</td>\n",
       "      <td>1</td>\n",
       "      <td>0</td>\n",
       "    </tr>\n",
       "    <tr>\n",
       "      <th>1</th>\n",
       "      <td>2</td>\n",
       "      <td>80.0</td>\n",
       "      <td>9600</td>\n",
       "      <td>2</td>\n",
       "      <td>6</td>\n",
       "      <td>8</td>\n",
       "      <td>34</td>\n",
       "      <td>34</td>\n",
       "      <td>0.0</td>\n",
       "      <td>3</td>\n",
       "      <td>...</td>\n",
       "      <td>0</td>\n",
       "      <td>0</td>\n",
       "      <td>0</td>\n",
       "      <td>1</td>\n",
       "      <td>0</td>\n",
       "      <td>0</td>\n",
       "      <td>0</td>\n",
       "      <td>0</td>\n",
       "      <td>1</td>\n",
       "      <td>0</td>\n",
       "    </tr>\n",
       "    <tr>\n",
       "      <th>2</th>\n",
       "      <td>3</td>\n",
       "      <td>68.0</td>\n",
       "      <td>11250</td>\n",
       "      <td>2</td>\n",
       "      <td>7</td>\n",
       "      <td>5</td>\n",
       "      <td>9</td>\n",
       "      <td>8</td>\n",
       "      <td>162.0</td>\n",
       "      <td>4</td>\n",
       "      <td>...</td>\n",
       "      <td>0</td>\n",
       "      <td>0</td>\n",
       "      <td>0</td>\n",
       "      <td>1</td>\n",
       "      <td>0</td>\n",
       "      <td>0</td>\n",
       "      <td>0</td>\n",
       "      <td>0</td>\n",
       "      <td>1</td>\n",
       "      <td>0</td>\n",
       "    </tr>\n",
       "    <tr>\n",
       "      <th>3</th>\n",
       "      <td>4</td>\n",
       "      <td>60.0</td>\n",
       "      <td>9550</td>\n",
       "      <td>2</td>\n",
       "      <td>7</td>\n",
       "      <td>5</td>\n",
       "      <td>95</td>\n",
       "      <td>40</td>\n",
       "      <td>0.0</td>\n",
       "      <td>3</td>\n",
       "      <td>...</td>\n",
       "      <td>0</td>\n",
       "      <td>0</td>\n",
       "      <td>0</td>\n",
       "      <td>1</td>\n",
       "      <td>1</td>\n",
       "      <td>0</td>\n",
       "      <td>0</td>\n",
       "      <td>0</td>\n",
       "      <td>0</td>\n",
       "      <td>0</td>\n",
       "    </tr>\n",
       "    <tr>\n",
       "      <th>4</th>\n",
       "      <td>5</td>\n",
       "      <td>84.0</td>\n",
       "      <td>14260</td>\n",
       "      <td>2</td>\n",
       "      <td>8</td>\n",
       "      <td>5</td>\n",
       "      <td>10</td>\n",
       "      <td>10</td>\n",
       "      <td>350.0</td>\n",
       "      <td>4</td>\n",
       "      <td>...</td>\n",
       "      <td>0</td>\n",
       "      <td>0</td>\n",
       "      <td>0</td>\n",
       "      <td>1</td>\n",
       "      <td>0</td>\n",
       "      <td>0</td>\n",
       "      <td>0</td>\n",
       "      <td>0</td>\n",
       "      <td>1</td>\n",
       "      <td>0</td>\n",
       "    </tr>\n",
       "  </tbody>\n",
       "</table>\n",
       "<p>5 rows × 277 columns</p>\n",
       "</div>"
      ],
      "text/plain": [
       "   Id  LotFrontage  LotArea  LandSlope  OverallQual  OverallCond  YearBuilt  \\\n",
       "0   1         65.0     8450          2            7            5          7   \n",
       "1   2         80.0     9600          2            6            8         34   \n",
       "2   3         68.0    11250          2            7            5          9   \n",
       "3   4         60.0     9550          2            7            5         95   \n",
       "4   5         84.0    14260          2            8            5         10   \n",
       "\n",
       "   YearRemodAdd  MasVnrArea  ExterQual  ...  SaleType_ConLw  SaleType_New  \\\n",
       "0             7       196.0          4  ...               0             0   \n",
       "1            34         0.0          3  ...               0             0   \n",
       "2             8       162.0          4  ...               0             0   \n",
       "3            40         0.0          3  ...               0             0   \n",
       "4            10       350.0          4  ...               0             0   \n",
       "\n",
       "   SaleType_Oth  SaleType_WD  SaleCondition_Abnorml  SaleCondition_AdjLand  \\\n",
       "0             0            1                      0                      0   \n",
       "1             0            1                      0                      0   \n",
       "2             0            1                      0                      0   \n",
       "3             0            1                      1                      0   \n",
       "4             0            1                      0                      0   \n",
       "\n",
       "   SaleCondition_Alloca  SaleCondition_Family  SaleCondition_Normal  \\\n",
       "0                     0                     0                     1   \n",
       "1                     0                     0                     1   \n",
       "2                     0                     0                     1   \n",
       "3                     0                     0                     0   \n",
       "4                     0                     0                     1   \n",
       "\n",
       "   SaleCondition_Partial  \n",
       "0                      0  \n",
       "1                      0  \n",
       "2                      0  \n",
       "3                      0  \n",
       "4                      0  \n",
       "\n",
       "[5 rows x 277 columns]"
      ]
     },
     "execution_count": 424,
     "metadata": {},
     "output_type": "execute_result"
    }
   ],
   "source": [
    "basic_dummies.head()"
   ]
  },
  {
   "cell_type": "code",
   "execution_count": 425,
   "metadata": {},
   "outputs": [
    {
     "data": {
      "text/html": [
       "<div>\n",
       "<style scoped>\n",
       "    .dataframe tbody tr th:only-of-type {\n",
       "        vertical-align: middle;\n",
       "    }\n",
       "\n",
       "    .dataframe tbody tr th {\n",
       "        vertical-align: top;\n",
       "    }\n",
       "\n",
       "    .dataframe thead th {\n",
       "        text-align: right;\n",
       "    }\n",
       "</style>\n",
       "<table border=\"1\" class=\"dataframe\">\n",
       "  <thead>\n",
       "    <tr style=\"text-align: right;\">\n",
       "      <th></th>\n",
       "      <th>LotFrontage</th>\n",
       "      <th>LotArea</th>\n",
       "      <th>LandSlope</th>\n",
       "      <th>OverallQual</th>\n",
       "      <th>OverallCond</th>\n",
       "      <th>YearRemodAdd</th>\n",
       "      <th>MasVnrArea</th>\n",
       "      <th>ExterQual</th>\n",
       "      <th>ExterCond</th>\n",
       "      <th>BsmtQual</th>\n",
       "      <th>...</th>\n",
       "      <th>SaleType_ConLw</th>\n",
       "      <th>SaleType_New</th>\n",
       "      <th>SaleType_Oth</th>\n",
       "      <th>SaleType_WD</th>\n",
       "      <th>SaleCondition_Abnorml</th>\n",
       "      <th>SaleCondition_AdjLand</th>\n",
       "      <th>SaleCondition_Alloca</th>\n",
       "      <th>SaleCondition_Family</th>\n",
       "      <th>SaleCondition_Normal</th>\n",
       "      <th>SaleCondition_Partial</th>\n",
       "    </tr>\n",
       "  </thead>\n",
       "  <tbody>\n",
       "    <tr>\n",
       "      <th>0</th>\n",
       "      <td>65.0</td>\n",
       "      <td>8450</td>\n",
       "      <td>2</td>\n",
       "      <td>7</td>\n",
       "      <td>5</td>\n",
       "      <td>7</td>\n",
       "      <td>196.0</td>\n",
       "      <td>4</td>\n",
       "      <td>3</td>\n",
       "      <td>4</td>\n",
       "      <td>...</td>\n",
       "      <td>0</td>\n",
       "      <td>0</td>\n",
       "      <td>0</td>\n",
       "      <td>1</td>\n",
       "      <td>0</td>\n",
       "      <td>0</td>\n",
       "      <td>0</td>\n",
       "      <td>0</td>\n",
       "      <td>1</td>\n",
       "      <td>0</td>\n",
       "    </tr>\n",
       "    <tr>\n",
       "      <th>1</th>\n",
       "      <td>80.0</td>\n",
       "      <td>9600</td>\n",
       "      <td>2</td>\n",
       "      <td>6</td>\n",
       "      <td>8</td>\n",
       "      <td>34</td>\n",
       "      <td>0.0</td>\n",
       "      <td>3</td>\n",
       "      <td>3</td>\n",
       "      <td>4</td>\n",
       "      <td>...</td>\n",
       "      <td>0</td>\n",
       "      <td>0</td>\n",
       "      <td>0</td>\n",
       "      <td>1</td>\n",
       "      <td>0</td>\n",
       "      <td>0</td>\n",
       "      <td>0</td>\n",
       "      <td>0</td>\n",
       "      <td>1</td>\n",
       "      <td>0</td>\n",
       "    </tr>\n",
       "    <tr>\n",
       "      <th>2</th>\n",
       "      <td>68.0</td>\n",
       "      <td>11250</td>\n",
       "      <td>2</td>\n",
       "      <td>7</td>\n",
       "      <td>5</td>\n",
       "      <td>8</td>\n",
       "      <td>162.0</td>\n",
       "      <td>4</td>\n",
       "      <td>3</td>\n",
       "      <td>4</td>\n",
       "      <td>...</td>\n",
       "      <td>0</td>\n",
       "      <td>0</td>\n",
       "      <td>0</td>\n",
       "      <td>1</td>\n",
       "      <td>0</td>\n",
       "      <td>0</td>\n",
       "      <td>0</td>\n",
       "      <td>0</td>\n",
       "      <td>1</td>\n",
       "      <td>0</td>\n",
       "    </tr>\n",
       "    <tr>\n",
       "      <th>3</th>\n",
       "      <td>60.0</td>\n",
       "      <td>9550</td>\n",
       "      <td>2</td>\n",
       "      <td>7</td>\n",
       "      <td>5</td>\n",
       "      <td>40</td>\n",
       "      <td>0.0</td>\n",
       "      <td>3</td>\n",
       "      <td>3</td>\n",
       "      <td>3</td>\n",
       "      <td>...</td>\n",
       "      <td>0</td>\n",
       "      <td>0</td>\n",
       "      <td>0</td>\n",
       "      <td>1</td>\n",
       "      <td>1</td>\n",
       "      <td>0</td>\n",
       "      <td>0</td>\n",
       "      <td>0</td>\n",
       "      <td>0</td>\n",
       "      <td>0</td>\n",
       "    </tr>\n",
       "    <tr>\n",
       "      <th>4</th>\n",
       "      <td>84.0</td>\n",
       "      <td>14260</td>\n",
       "      <td>2</td>\n",
       "      <td>8</td>\n",
       "      <td>5</td>\n",
       "      <td>10</td>\n",
       "      <td>350.0</td>\n",
       "      <td>4</td>\n",
       "      <td>3</td>\n",
       "      <td>4</td>\n",
       "      <td>...</td>\n",
       "      <td>0</td>\n",
       "      <td>0</td>\n",
       "      <td>0</td>\n",
       "      <td>1</td>\n",
       "      <td>0</td>\n",
       "      <td>0</td>\n",
       "      <td>0</td>\n",
       "      <td>0</td>\n",
       "      <td>1</td>\n",
       "      <td>0</td>\n",
       "    </tr>\n",
       "  </tbody>\n",
       "</table>\n",
       "<p>5 rows × 279 columns</p>\n",
       "</div>"
      ],
      "text/plain": [
       "   LotFrontage  LotArea  LandSlope  OverallQual  OverallCond  YearRemodAdd  \\\n",
       "0         65.0     8450          2            7            5             7   \n",
       "1         80.0     9600          2            6            8            34   \n",
       "2         68.0    11250          2            7            5             8   \n",
       "3         60.0     9550          2            7            5            40   \n",
       "4         84.0    14260          2            8            5            10   \n",
       "\n",
       "   MasVnrArea  ExterQual  ExterCond  BsmtQual  ...  SaleType_ConLw  \\\n",
       "0       196.0          4          3         4  ...               0   \n",
       "1         0.0          3          3         4  ...               0   \n",
       "2       162.0          4          3         4  ...               0   \n",
       "3         0.0          3          3         3  ...               0   \n",
       "4       350.0          4          3         4  ...               0   \n",
       "\n",
       "   SaleType_New  SaleType_Oth  SaleType_WD  SaleCondition_Abnorml  \\\n",
       "0             0             0            1                      0   \n",
       "1             0             0            1                      0   \n",
       "2             0             0            1                      0   \n",
       "3             0             0            1                      1   \n",
       "4             0             0            1                      0   \n",
       "\n",
       "   SaleCondition_AdjLand  SaleCondition_Alloca  SaleCondition_Family  \\\n",
       "0                      0                     0                     0   \n",
       "1                      0                     0                     0   \n",
       "2                      0                     0                     0   \n",
       "3                      0                     0                     0   \n",
       "4                      0                     0                     0   \n",
       "\n",
       "   SaleCondition_Normal  SaleCondition_Partial  \n",
       "0                     1                      0  \n",
       "1                     1                      0  \n",
       "2                     1                      0  \n",
       "3                     0                      0  \n",
       "4                     1                      0  \n",
       "\n",
       "[5 rows x 279 columns]"
      ]
     },
     "execution_count": 425,
     "metadata": {},
     "output_type": "execute_result"
    }
   ],
   "source": [
    "data_dummies.head()"
   ]
  },
  {
   "cell_type": "markdown",
   "metadata": {},
   "source": [
    "#### I generate some more nonlinear features for the feature engineered data."
   ]
  },
  {
   "cell_type": "code",
   "execution_count": 426,
   "metadata": {},
   "outputs": [
    {
     "name": "stdout",
     "output_type": "stream",
     "text": [
      "Neighborhood_Blmngtn\n",
      "Neighborhood_Blueste\n",
      "Neighborhood_BrDale\n",
      "Neighborhood_BrkSide\n",
      "Neighborhood_ClearCr\n",
      "Neighborhood_CollgCr\n",
      "Neighborhood_Crawfor\n",
      "Neighborhood_Edwards\n",
      "Neighborhood_Gilbert\n",
      "Neighborhood_IDOTRR\n",
      "Neighborhood_MeadowV\n",
      "Neighborhood_Mitchel\n",
      "Neighborhood_NAmes\n",
      "Neighborhood_NPkVill\n",
      "Neighborhood_NWAmes\n",
      "Neighborhood_NoRidge\n",
      "Neighborhood_NridgHt\n",
      "Neighborhood_OldTown\n",
      "Neighborhood_SWISU\n",
      "Neighborhood_Sawyer\n",
      "Neighborhood_SawyerW\n",
      "Neighborhood_Somerst\n",
      "Neighborhood_StoneBr\n",
      "Neighborhood_Timber\n",
      "Neighborhood_Veenker\n"
     ]
    }
   ],
   "source": [
    "for col in data_dummies.columns:\n",
    "    if 'Neighborhood' in col:\n",
    "        print(col)\n",
    "        newcol = col + '_' + 'OverallQual'\n",
    "        data_dummies[newcol] = data_dummies[col] * data_dummies['OverallQual']\n",
    "        \n",
    "        newcol = col + '_' + 'Area'\n",
    "        data_dummies[newcol] = data_dummies[col] * data_dummies['GrLivArea']\n",
    "        \n",
    "        newcol = col + '_' + 'LotArea'\n",
    "        data_dummies[newcol] = data_dummies[col] * data_dummies['LotArea']\n",
    "        \n",
    "        newcol = col + '_' + 'Cars'\n",
    "        data_dummies[newcol] = data_dummies[col] * data_dummies['GarageCars']\n",
    "        \n",
    "    if 'SaleCondition' in col:\n",
    "        newcol = col + '_' + 'OverallQual'\n",
    "        data_dummies[newcol] = data_dummies[col] * data_dummies['OverallQual']\n",
    "        \n",
    "        newcol = col + '_' + 'Area'\n",
    "        data_dummies[newcol] = data_dummies[col] * data_dummies['GrLivArea']\n",
    "        \n",
    "        newcol = col + '_' + 'LotArea'\n",
    "        data_dummies[newcol] = data_dummies[col] * data_dummies['LotArea']\n",
    "        \n",
    "        newcol = col + '_' + 'Cars'\n",
    "        data_dummies[newcol] = data_dummies[col] * data_dummies['GarageCars']   \n",
    "        \n",
    "    if 'MSZoning' in col:\n",
    "        newcol = col + '_' + 'OverallQual'\n",
    "        data_dummies[newcol] = data_dummies[col] * data_dummies['OverallQual']\n",
    "        \n",
    "        newcol = col + '_' + 'Area'\n",
    "        data_dummies[newcol] = data_dummies[col] * data_dummies['GrLivArea']\n",
    "        \n",
    "        newcol = col + '_' + 'LotArea'\n",
    "        data_dummies[newcol] = data_dummies[col] * data_dummies['LotArea']\n",
    "        \n",
    "        newcol = col + '_' + 'Cars'\n",
    "        data_dummies[newcol] = data_dummies[col] * data_dummies['GarageCars']\n",
    "        \n",
    "    if 'Foundation' in col:\n",
    "        newcol = col + '_' + 'OverallQual'\n",
    "        data_dummies[newcol] = data_dummies[col] * data_dummies['OverallQual']\n",
    "        \n",
    "        newcol = col + '_' + 'Area'\n",
    "        data_dummies[newcol] = data_dummies[col] * data_dummies['GrLivArea']\n",
    "        \n",
    "        newcol = col + '_' + 'LotArea'\n",
    "        data_dummies[newcol] = data_dummies[col] * data_dummies['LotArea']\n",
    "        \n",
    "        newcol = col + '_' + 'Cars'\n",
    "        data_dummies[newcol] = data_dummies[col] * data_dummies['GarageCars']\n",
    "        \n",
    "    if col == 'Age':\n",
    "        newcol = col + '_' + 'OverallQual'\n",
    "        data_dummies[newcol] = data_dummies[col] * data_dummies['OverallQual']\n",
    "        \n",
    "        newcol = col + '_' + 'Area'\n",
    "        data_dummies[newcol] = data_dummies[col] * data_dummies['GrLivArea']\n",
    "        \n",
    "        newcol = col + '_' + 'LotArea'\n",
    "        data_dummies[newcol] = data_dummies[col] * data_dummies['LotArea']\n",
    "        \n",
    "        newcol = col + '_' + 'Cars'\n",
    "        data_dummies[newcol] = data_dummies[col] * data_dummies['GarageCars']"
   ]
  },
  {
   "cell_type": "code",
   "execution_count": 427,
   "metadata": {},
   "outputs": [],
   "source": [
    "data_dummies.to_csv('data_dummies.csv')"
   ]
  },
  {
   "cell_type": "code",
   "execution_count": 3,
   "metadata": {},
   "outputs": [],
   "source": [
    "data_dummies = pd.read_csv('data_dummies.csv',index_col=0)"
   ]
  },
  {
   "cell_type": "code",
   "execution_count": 4,
   "metadata": {},
   "outputs": [
    {
     "data": {
      "text/plain": [
       "(2919, 451)"
      ]
     },
     "execution_count": 4,
     "metadata": {},
     "output_type": "execute_result"
    }
   ],
   "source": [
    "data_dummies.shape"
   ]
  },
  {
   "cell_type": "markdown",
   "metadata": {},
   "source": [
    "#### I can use a CatBoost regressor to observe the feature importances for my data:"
   ]
  },
  {
   "cell_type": "code",
   "execution_count": 10,
   "metadata": {},
   "outputs": [],
   "source": [
    "scaler = MinMaxScaler()\n",
    "basic_data_normal = pd.DataFrame(scaler.fit_transform(basic_dummies),columns=basic_dummies.columns)"
   ]
  },
  {
   "cell_type": "code",
   "execution_count": 11,
   "metadata": {},
   "outputs": [],
   "source": [
    "cb = CatBoostRegressor(iterations=2000,max_depth=4,learning_rate=0.01,l2_leaf_reg=1)"
   ]
  },
  {
   "cell_type": "code",
   "execution_count": null,
   "metadata": {},
   "outputs": [],
   "source": [
    "cb.fit(basic_data_normal.iloc[:1460],y_train)"
   ]
  },
  {
   "cell_type": "code",
   "execution_count": 16,
   "metadata": {},
   "outputs": [],
   "source": [
    "def get_importance(model,data,train_num=1460):\n",
    "    importance = model.get_feature_importance()\n",
    "    \n",
    "    importance_dict = {}\n",
    "    for i in range(len(importance)):\n",
    "        importance_dict[data.columns[i]] = importance[i]\n",
    "\n",
    "    return sorted(importance_dict.items(),key=lambda x: x[1], reverse=True)"
   ]
  },
  {
   "cell_type": "code",
   "execution_count": null,
   "metadata": {},
   "outputs": [],
   "source": [
    "importance = cb.get_feature_importance()\n",
    "\n",
    "importance_list = zip(basic_data_normal.iloc[:1460].columns, importance)\n",
    "for feature in sorted(importance_list, key = lambda t: t[1], reverse=True):\n",
    "    print(feature)\n",
    "    \n",
    "basic_importance_dict = {}\n",
    "\n",
    "for i in range(len(importance)):\n",
    "    basic_importance_dict[basic_data_normal.iloc[:1460].columns[i]] = importance[i]\n",
    "\n",
    "basic_importance_dict = sorted(basic_importance_dict.items(),key=lambda x: x[1], reverse=True)"
   ]
  },
  {
   "cell_type": "markdown",
   "metadata": {},
   "source": [
    "#### This is consistent with the correlation heatmap, OverallQual and GrLivArea are the most important features. Features relating to the basement and the square footage are also notably important, as well as the number of bathrooms and garage car capacity."
   ]
  },
  {
   "cell_type": "code",
   "execution_count": 18,
   "metadata": {},
   "outputs": [
    {
     "data": {
      "text/plain": [
       "(2919, 79)"
      ]
     },
     "execution_count": 18,
     "metadata": {},
     "output_type": "execute_result"
    }
   ],
   "source": [
    "basic_data.shape"
   ]
  },
  {
   "cell_type": "markdown",
   "metadata": {},
   "source": [
    "#### Next, I need to establish extreme outliers in the training data. These points will throw off the model and performance will likely be superior if they're removed. I will apply the standard of removing any points with the absolute value of the studentized residual exceeding 3. However, I will also train on the data containing the outliers to show the comparison in performance."
   ]
  },
  {
   "cell_type": "code",
   "execution_count": 19,
   "metadata": {},
   "outputs": [],
   "source": [
    "basic_importance = get_importance(cb,basic_dummies)"
   ]
  },
  {
   "cell_type": "code",
   "execution_count": 20,
   "metadata": {},
   "outputs": [],
   "source": [
    "basic_data_OLS = basic_data_normal[[x[0] for x in basic_importance][:25]]"
   ]
  },
  {
   "cell_type": "code",
   "execution_count": 21,
   "metadata": {},
   "outputs": [],
   "source": [
    "OLS_model = sm.OLS(y_train,basic_data_OLS.iloc[:1460])\n",
    "results = OLS_model.fit()"
   ]
  },
  {
   "cell_type": "code",
   "execution_count": 22,
   "metadata": {},
   "outputs": [
    {
     "name": "stdout",
     "output_type": "stream",
     "text": [
      "                                 OLS Regression Results                                \n",
      "=======================================================================================\n",
      "Dep. Variable:              SalePrice   R-squared (uncentered):                   0.969\n",
      "Model:                            OLS   Adj. R-squared (uncentered):              0.968\n",
      "Method:                 Least Squares   F-statistic:                              1784.\n",
      "Date:                Mon, 08 Aug 2022   Prob (F-statistic):                        0.00\n",
      "Time:                        13:00:58   Log-Likelihood:                         -17343.\n",
      "No. Observations:                1460   AIC:                                  3.474e+04\n",
      "Df Residuals:                    1435   BIC:                                  3.487e+04\n",
      "Df Model:                          25                                                  \n",
      "Covariance Type:            nonrobust                                                  \n",
      "========================================================================================\n",
      "                           coef    std err          t      P>|t|      [0.025      0.975]\n",
      "----------------------------------------------------------------------------------------\n",
      "OverallQual           1.001e+05   1.14e+04      8.794      0.000    7.78e+04    1.22e+05\n",
      "GrLivArea             1.491e+05   1.05e+05      1.420      0.156   -5.68e+04    3.55e+05\n",
      "TotalBsmtSF           2.836e+04   2.95e+04      0.963      0.336   -2.94e+04    8.61e+04\n",
      "ExterQual              4.27e+04   8233.103      5.187      0.000    2.66e+04    5.89e+04\n",
      "BsmtFinSF1            8.721e+04   1.46e+04      5.985      0.000    5.86e+04    1.16e+05\n",
      "1stFlrSF              1.414e+05   9.69e+04      1.458      0.145   -4.88e+04    3.32e+05\n",
      "GarageCars            3.858e+04   1.46e+04      2.636      0.008    9868.529    6.73e+04\n",
      "BsmtQual             -2229.5702   8100.443     -0.275      0.783   -1.81e+04    1.37e+04\n",
      "KitchenQual           2.943e+04   6709.422      4.386      0.000    1.63e+04    4.26e+04\n",
      "LotArea               9.851e+04    2.2e+04      4.487      0.000    5.54e+04    1.42e+05\n",
      "2ndFlrSF              4.535e+04   4.16e+04      1.090      0.276   -3.63e+04    1.27e+05\n",
      "FullBath              -2.93e+04   1.03e+04     -2.854      0.004   -4.94e+04   -9161.356\n",
      "Fireplaces             563.1783   1.23e+04      0.046      0.964   -2.36e+04    2.47e+04\n",
      "GarageArea            9864.6263   1.46e+04      0.676      0.499   -1.87e+04    3.85e+04\n",
      "TotRmsAbvGrd            1.1e+04   1.36e+04      0.807      0.420   -1.57e+04    3.77e+04\n",
      "YearBuilt            -4.518e+04   8184.901     -5.520      0.000   -6.12e+04   -2.91e+04\n",
      "GarageFinish         -4083.4360   4420.061     -0.924      0.356   -1.28e+04    4587.038\n",
      "YearRemodAdd         -1.211e+04   3631.454     -3.335      0.001   -1.92e+04   -4987.764\n",
      "BsmtExposure          2.223e+04   4088.278      5.437      0.000    1.42e+04    3.02e+04\n",
      "MSSubClass_60         2213.2216   3939.052      0.562      0.574   -5513.696    9940.139\n",
      "OverallCond           1.293e+04   7274.931      1.777      0.076   -1345.253    2.72e+04\n",
      "FireplaceQu           1.642e+04   5507.092      2.982      0.003    5618.430    2.72e+04\n",
      "Neighborhood_Edwards -1.137e+04   3771.300     -3.015      0.003   -1.88e+04   -3971.531\n",
      "HalfBath             -5478.7086   5338.686     -1.026      0.305    -1.6e+04    4993.757\n",
      "OpenPorchSF            -55.0204   1.13e+04     -0.005      0.996   -2.23e+04    2.22e+04\n",
      "==============================================================================\n",
      "Omnibus:                      605.975   Durbin-Watson:                   2.001\n",
      "Prob(Omnibus):                  0.000   Jarque-Bera (JB):           114286.484\n",
      "Skew:                          -0.780   Prob(JB):                         0.00\n",
      "Kurtosis:                      46.316   Cond. No.                         294.\n",
      "==============================================================================\n",
      "\n",
      "Warnings:\n",
      "[1] Standard Errors assume that the covariance matrix of the errors is correctly specified.\n"
     ]
    }
   ],
   "source": [
    "print(results.summary())"
   ]
  },
  {
   "cell_type": "code",
   "execution_count": 23,
   "metadata": {},
   "outputs": [
    {
     "name": "stdout",
     "output_type": "stream",
     "text": [
      "0      -0.290659\n",
      "1      -0.138186\n",
      "2      -0.315753\n",
      "3      -1.525141\n",
      "4      -1.132288\n",
      "          ...   \n",
      "1455   -0.058756\n",
      "1456   -0.259029\n",
      "1457    0.352675\n",
      "1458    0.359516\n",
      "1459    0.372494\n",
      "Length: 1460, dtype: float64\n"
     ]
    }
   ],
   "source": [
    "influence = OLSInfluence(results)\n",
    "sresiduals = influence.resid_studentized_internal\n",
    "print(sresiduals)"
   ]
  },
  {
   "cell_type": "markdown",
   "metadata": {},
   "source": [
    "#### Here are the studentized residuals exceeding 3"
   ]
  },
  {
   "cell_type": "code",
   "execution_count": 24,
   "metadata": {},
   "outputs": [
    {
     "data": {
      "text/plain": [
       "178      4.132995\n",
       "185      4.022509\n",
       "440      4.641632\n",
       "473      3.596650\n",
       "523     -9.774730\n",
       "688      3.948837\n",
       "691      8.091751\n",
       "769      3.745586\n",
       "774      3.165559\n",
       "798      3.567767\n",
       "803      6.344008\n",
       "898      6.607279\n",
       "1046     6.000367\n",
       "1169     6.244045\n",
       "1182     8.226154\n",
       "1243     3.043053\n",
       "1298   -16.118770\n",
       "1324    -3.541805\n",
       "dtype: float64"
      ]
     },
     "execution_count": 24,
     "metadata": {},
     "output_type": "execute_result"
    }
   ],
   "source": [
    "sresiduals[abs(sresiduals) > 3]"
   ]
  },
  {
   "cell_type": "code",
   "execution_count": 25,
   "metadata": {},
   "outputs": [],
   "source": [
    "num_outliers = len(sresiduals[abs(sresiduals) > 3])"
   ]
  },
  {
   "cell_type": "markdown",
   "metadata": {},
   "source": [
    "#### Here, I create a dictionary of datasets with three hyperparameters being varied:\n",
    "\n",
    "#### 1. Whether the dataset contains the engineered features\n",
    "#### 2. Whether the dataset contains the outlier points\n",
    "#### 3. The number of features that the dataset retains (based on the CatBoost ranking)"
   ]
  },
  {
   "cell_type": "code",
   "execution_count": 468,
   "metadata": {},
   "outputs": [],
   "source": [
    "dataset_dict = {}\n",
    "\n",
    "dataset_dict['basic_dummies_max'] = basic_dummies\n",
    "dataset_dict['basic_dummies_max_no_outliers'] = basic_dummies.drop(sresiduals[abs(sresiduals) > 3].index,axis=0)\n",
    "dataset_dict['basic_dummies_200'] = basic_dummies[[x[0] for x in basic_importance][:200]]\n",
    "dataset_dict['basic_dummies_200_no_outliers'] = basic_dummies[[x[0] for x in basic_importance][:200]].drop(sresiduals[abs(sresiduals) > 3].index,axis=0)\n",
    "dataset_dict['basic_dummies_150'] = basic_dummies[[x[0] for x in basic_importance][:150]]\n",
    "dataset_dict['basic_dummies_150_no_outliers'] = basic_dummies[[x[0] for x in basic_importance][:150]].drop(sresiduals[abs(sresiduals) > 3].index,axis=0)\n",
    "dataset_dict['basic_dummies_100'] = basic_dummies[[x[0] for x in basic_importance][:100]]\n",
    "dataset_dict['basic_dummies_100_no_outliers'] = basic_dummies[[x[0] for x in basic_importance][:100]].drop(sresiduals[abs(sresiduals) > 3].index,axis=0)\n",
    "\n",
    "dataset_dict['data_dummies_max'] = data_dummies\n",
    "dataset_dict['data_dummies_max_no_outliers'] = data_dummies.drop(sresiduals[abs(sresiduals) > 3].index,axis=0)\n",
    "dataset_dict['data_dummies_200'] = data_dummies[[x[0] for x in importance][:200]]\n",
    "dataset_dict['data_dummies_200_no_outliers'] = data_dummies[[x[0] for x in importance][:200]].drop(sresiduals[abs(sresiduals) > 3].index,axis=0)\n",
    "dataset_dict['data_dummies_150'] = data_dummies[[x[0] for x in importance][:150]]\n",
    "dataset_dict['data_dummies_150_no_outliers'] = basic_dummies[[x[0] for x in basic_importance][:150]].drop(sresiduals[abs(sresiduals) > 3].index,axis=0)\n",
    "dataset_dict['data_dummies_100'] = data_dummies[[x[0] for x in importance][:100]]\n",
    "dataset_dict['data_dummies_100_no_outliers'] = data_dummies[[x[0] for x in importance][:100]].drop(sresiduals[abs(sresiduals) > 3].index,axis=0)"
   ]
  },
  {
   "cell_type": "code",
   "execution_count": 469,
   "metadata": {},
   "outputs": [
    {
     "name": "stdout",
     "output_type": "stream",
     "text": [
      "Name: basic_dummies_max, Shape: (2919, 277)\n",
      "Name: basic_dummies_max_no_outliers, Shape: (2901, 277)\n",
      "Name: basic_dummies_200, Shape: (2919, 200)\n",
      "Name: basic_dummies_200_no_outliers, Shape: (2901, 200)\n",
      "Name: basic_dummies_150, Shape: (2919, 150)\n",
      "Name: basic_dummies_150_no_outliers, Shape: (2901, 150)\n",
      "Name: basic_dummies_100, Shape: (2919, 100)\n",
      "Name: basic_dummies_100_no_outliers, Shape: (2901, 100)\n",
      "Name: data_dummies_max, Shape: (2919, 451)\n",
      "Name: data_dummies_max_no_outliers, Shape: (2901, 451)\n",
      "Name: data_dummies_200, Shape: (2919, 200)\n",
      "Name: data_dummies_200_no_outliers, Shape: (2901, 200)\n",
      "Name: data_dummies_150, Shape: (2919, 150)\n",
      "Name: data_dummies_150_no_outliers, Shape: (2901, 150)\n",
      "Name: data_dummies_100, Shape: (2919, 100)\n",
      "Name: data_dummies_100_no_outliers, Shape: (2901, 100)\n"
     ]
    }
   ],
   "source": [
    "for key,data in dataset_dict.items():\n",
    "    print(f\"Name: {key}, Shape: {data.shape}\")"
   ]
  },
  {
   "cell_type": "code",
   "execution_count": 481,
   "metadata": {},
   "outputs": [
    {
     "data": {
      "text/plain": [
       "18"
      ]
     },
     "execution_count": 481,
     "metadata": {},
     "output_type": "execute_result"
    }
   ],
   "source": [
    "num_outliers"
   ]
  },
  {
   "cell_type": "markdown",
   "metadata": {},
   "source": [
    "#### Here, I define a function to split each dataset in the dictionary into training and validation:"
   ]
  },
  {
   "cell_type": "code",
   "execution_count": 496,
   "metadata": {},
   "outputs": [],
   "source": [
    "def train_validation_split(name,xdata,p=0.3):\n",
    "    outliers=0\n",
    "    ydata = y_train\n",
    "    if 'outliers' in name:\n",
    "        print('hi')\n",
    "        xdata = xdata.reset_index().iloc[:,1:]\n",
    "        ydata = y_train.drop(sresiduals[abs(sresiduals) > 3].index,axis=0).reset_index().iloc[:,1:]\n",
    "        outliers = num_outliers\n",
    "    return train_test_split(xdata.iloc[:(1460-outliers)],ydata,test_size=p,random_state=42)"
   ]
  },
  {
   "cell_type": "markdown",
   "metadata": {},
   "source": [
    "#### I construct a relatively simple CatBoost model as a preliminary means of observing the performance of each dataset, and fit the model to each dataset."
   ]
  },
  {
   "cell_type": "code",
   "execution_count": 493,
   "metadata": {},
   "outputs": [],
   "source": [
    "preliminary_model = CatBoostRegressor(iterations=5000,max_depth=4,learning_rate=0.01,l2_leaf_reg=3,verbose=0,od_wait=200)"
   ]
  },
  {
   "cell_type": "code",
   "execution_count": 494,
   "metadata": {},
   "outputs": [
    {
     "name": "stdout",
     "output_type": "stream",
     "text": [
      "Name: basic_dummies_max, Result: 22381.49670380449\n",
      "hi\n",
      "Name: basic_dummies_max_no_outliers, Result: 18089.674213071667\n",
      "Name: basic_dummies_200, Result: 22978.15437440461\n",
      "hi\n",
      "Name: basic_dummies_200_no_outliers, Result: 16847.68249003425\n",
      "Name: basic_dummies_150, Result: 21877.968100814087\n",
      "hi\n",
      "Name: basic_dummies_150_no_outliers, Result: 17419.042646350037\n",
      "Name: basic_dummies_100, Result: 27685.27476513819\n",
      "hi\n",
      "Name: basic_dummies_100_no_outliers, Result: 19668.454866820444\n",
      "Name: data_dummies_max, Result: 26743.0965591727\n",
      "hi\n",
      "Name: data_dummies_max_no_outliers, Result: 19436.03328368384\n",
      "Name: data_dummies_200, Result: 22862.584693612316\n",
      "hi\n",
      "Name: data_dummies_200_no_outliers, Result: 19427.51935354612\n",
      "Name: data_dummies_150, Result: 21927.81064878785\n",
      "hi\n",
      "Name: data_dummies_150_no_outliers, Result: 19662.676970742847\n",
      "Name: data_dummies_100, Result: 24454.382588485216\n",
      "hi\n",
      "Name: data_dummies_100_no_outliers, Result: 18727.24894816585\n"
     ]
    }
   ],
   "source": [
    "for key,data in dataset_dict.items():\n",
    "    Xt,Xv,yt,yv = train_validation_split(key,data)\n",
    "    preliminary_model.fit(Xt,yt,eval_set=(Xv,yv))\n",
    "    print(f\"Name: {key}, Result: {np.sqrt(mean_squared_error(yv,preliminary_model.predict(Xv)))}\")"
   ]
  },
  {
   "cell_type": "markdown",
   "metadata": {},
   "source": [
    "#### It can be instantly concluded that the model performs far better on the data with outliers removed in all cases, so I will remove all the datasets containing the outliers from the dict."
   ]
  },
  {
   "cell_type": "code",
   "execution_count": 495,
   "metadata": {},
   "outputs": [],
   "source": [
    "for x in ['basic_dummies_max','basic_dummies_200','basic_dummies_150','basic_dummies_100','data_dummies_max',\n",
    "         'data_dummies_200','data_dummies_150','data_dummies_100']:\n",
    "    del dataset_dict[x]"
   ]
  },
  {
   "cell_type": "markdown",
   "metadata": {},
   "source": [
    "#### I define a larger model to train again on the remaining datasets"
   ]
  },
  {
   "cell_type": "code",
   "execution_count": 497,
   "metadata": {},
   "outputs": [],
   "source": [
    "second_model = CatBoostRegressor(iterations=10000,max_depth=4,learning_rate=0.005,l2_leaf_reg=3,verbose=0,od_wait=200,random_state=42)"
   ]
  },
  {
   "cell_type": "code",
   "execution_count": 498,
   "metadata": {},
   "outputs": [
    {
     "name": "stdout",
     "output_type": "stream",
     "text": [
      "hi\n",
      "Name: basic_dummies_max_no_outliers, Result: 16760.125864429698\n",
      "hi\n",
      "Name: basic_dummies_200_no_outliers, Result: 16642.940189624096\n",
      "hi\n",
      "Name: basic_dummies_150_no_outliers, Result: 16635.8735336892\n",
      "hi\n",
      "Name: basic_dummies_100_no_outliers, Result: 16577.979421729477\n",
      "hi\n",
      "Name: data_dummies_max_no_outliers, Result: 16981.93995986067\n",
      "hi\n",
      "Name: data_dummies_200_no_outliers, Result: 16821.103710667852\n",
      "hi\n",
      "Name: data_dummies_150_no_outliers, Result: 16635.8735336892\n",
      "hi\n",
      "Name: data_dummies_100_no_outliers, Result: 16398.431388519366\n"
     ]
    }
   ],
   "source": [
    "for key,data in dataset_dict.items():\n",
    "    Xt,Xv,yt,yv = train_validation_split(key,data)\n",
    "    second_model.fit(Xt,yt,eval_set=(Xv,yv))\n",
    "    print(f\"Name: {key}, Result: {np.sqrt(mean_squared_error(yv,second_model.predict(Xv)))}\")"
   ]
  },
  {
   "cell_type": "markdown",
   "metadata": {},
   "source": [
    "#### The difference in performance isn't significant between the models, but I will choose the best-performing one, which is the dataset with engineered features limited to the best 100 features."
   ]
  },
  {
   "cell_type": "code",
   "execution_count": 500,
   "metadata": {},
   "outputs": [],
   "source": [
    "selected_data = dataset_dict['data_dummies_100_no_outliers']"
   ]
  },
  {
   "cell_type": "markdown",
   "metadata": {},
   "source": [
    "#### I will now try a few different model architectures on the selected dataset, starting with RandomForest.\n",
    "\n",
    "#### I create a parameter grid and use GridCV to test the model with all different parameter combinations."
   ]
  },
  {
   "cell_type": "code",
   "execution_count": 508,
   "metadata": {},
   "outputs": [],
   "source": [
    "rf = RandomForestRegressor(random_state=42)"
   ]
  },
  {
   "cell_type": "code",
   "execution_count": 507,
   "metadata": {},
   "outputs": [],
   "source": [
    "rf_params = {\n",
    "    'n_estimators': [1000,2000,5000],\n",
    "    'max_depth': [3,5,7],\n",
    "}"
   ]
  },
  {
   "cell_type": "code",
   "execution_count": 526,
   "metadata": {},
   "outputs": [],
   "source": [
    "rf_params2 = {\n",
    "    'n_estimators': [5000],\n",
    "    'max_depth': [16],\n",
    "}"
   ]
  },
  {
   "cell_type": "code",
   "execution_count": 527,
   "metadata": {},
   "outputs": [],
   "source": [
    "rf_cv = GridSearchCV(rf,param_grid=rf_params2,cv=4,verbose=2,refit=True,scoring='neg_root_mean_squared_error')"
   ]
  },
  {
   "cell_type": "code",
   "execution_count": null,
   "metadata": {},
   "outputs": [],
   "source": []
  },
  {
   "cell_type": "code",
   "execution_count": 528,
   "metadata": {},
   "outputs": [],
   "source": [
    "Xt = selected_data[:1460-num_outliers].reset_index().iloc[:,1:]\n",
    "yt = y_train.drop(sresiduals[abs(sresiduals) > 3].index,axis=0).reset_index().iloc[:,1:]"
   ]
  },
  {
   "cell_type": "code",
   "execution_count": 570,
   "metadata": {},
   "outputs": [],
   "source": [
    "Xtest = selected_data[1460-num_outliers:]"
   ]
  },
  {
   "cell_type": "code",
   "execution_count": 529,
   "metadata": {},
   "outputs": [
    {
     "name": "stdout",
     "output_type": "stream",
     "text": [
      "Fitting 4 folds for each of 1 candidates, totalling 4 fits\n"
     ]
    },
    {
     "name": "stderr",
     "output_type": "stream",
     "text": [
      "C:\\Users\\nickj\\anaconda3\\lib\\site-packages\\sklearn\\model_selection\\_validation.py:686: DataConversionWarning: A column-vector y was passed when a 1d array was expected. Please change the shape of y to (n_samples,), for example using ravel().\n",
      "  estimator.fit(X_train, y_train, **fit_params)\n"
     ]
    },
    {
     "name": "stdout",
     "output_type": "stream",
     "text": [
      "[CV] END ....................max_depth=16, n_estimators=5000; total time= 1.4min\n"
     ]
    },
    {
     "name": "stderr",
     "output_type": "stream",
     "text": [
      "C:\\Users\\nickj\\anaconda3\\lib\\site-packages\\sklearn\\model_selection\\_validation.py:686: DataConversionWarning: A column-vector y was passed when a 1d array was expected. Please change the shape of y to (n_samples,), for example using ravel().\n",
      "  estimator.fit(X_train, y_train, **fit_params)\n"
     ]
    },
    {
     "name": "stdout",
     "output_type": "stream",
     "text": [
      "[CV] END ....................max_depth=16, n_estimators=5000; total time= 1.4min\n"
     ]
    },
    {
     "name": "stderr",
     "output_type": "stream",
     "text": [
      "C:\\Users\\nickj\\anaconda3\\lib\\site-packages\\sklearn\\model_selection\\_validation.py:686: DataConversionWarning: A column-vector y was passed when a 1d array was expected. Please change the shape of y to (n_samples,), for example using ravel().\n",
      "  estimator.fit(X_train, y_train, **fit_params)\n"
     ]
    },
    {
     "name": "stdout",
     "output_type": "stream",
     "text": [
      "[CV] END ....................max_depth=16, n_estimators=5000; total time= 1.4min\n"
     ]
    },
    {
     "name": "stderr",
     "output_type": "stream",
     "text": [
      "C:\\Users\\nickj\\anaconda3\\lib\\site-packages\\sklearn\\model_selection\\_validation.py:686: DataConversionWarning: A column-vector y was passed when a 1d array was expected. Please change the shape of y to (n_samples,), for example using ravel().\n",
      "  estimator.fit(X_train, y_train, **fit_params)\n"
     ]
    },
    {
     "name": "stdout",
     "output_type": "stream",
     "text": [
      "[CV] END ....................max_depth=16, n_estimators=5000; total time= 1.4min\n"
     ]
    },
    {
     "name": "stderr",
     "output_type": "stream",
     "text": [
      "C:\\Users\\nickj\\anaconda3\\lib\\site-packages\\sklearn\\model_selection\\_search.py:910: DataConversionWarning: A column-vector y was passed when a 1d array was expected. Please change the shape of y to (n_samples,), for example using ravel().\n",
      "  self.best_estimator_.fit(X, y, **fit_params)\n"
     ]
    },
    {
     "data": {
      "text/html": [
       "<style>#sk-container-id-3 {color: black;background-color: white;}#sk-container-id-3 pre{padding: 0;}#sk-container-id-3 div.sk-toggleable {background-color: white;}#sk-container-id-3 label.sk-toggleable__label {cursor: pointer;display: block;width: 100%;margin-bottom: 0;padding: 0.3em;box-sizing: border-box;text-align: center;}#sk-container-id-3 label.sk-toggleable__label-arrow:before {content: \"▸\";float: left;margin-right: 0.25em;color: #696969;}#sk-container-id-3 label.sk-toggleable__label-arrow:hover:before {color: black;}#sk-container-id-3 div.sk-estimator:hover label.sk-toggleable__label-arrow:before {color: black;}#sk-container-id-3 div.sk-toggleable__content {max-height: 0;max-width: 0;overflow: hidden;text-align: left;background-color: #f0f8ff;}#sk-container-id-3 div.sk-toggleable__content pre {margin: 0.2em;color: black;border-radius: 0.25em;background-color: #f0f8ff;}#sk-container-id-3 input.sk-toggleable__control:checked~div.sk-toggleable__content {max-height: 200px;max-width: 100%;overflow: auto;}#sk-container-id-3 input.sk-toggleable__control:checked~label.sk-toggleable__label-arrow:before {content: \"▾\";}#sk-container-id-3 div.sk-estimator input.sk-toggleable__control:checked~label.sk-toggleable__label {background-color: #d4ebff;}#sk-container-id-3 div.sk-label input.sk-toggleable__control:checked~label.sk-toggleable__label {background-color: #d4ebff;}#sk-container-id-3 input.sk-hidden--visually {border: 0;clip: rect(1px 1px 1px 1px);clip: rect(1px, 1px, 1px, 1px);height: 1px;margin: -1px;overflow: hidden;padding: 0;position: absolute;width: 1px;}#sk-container-id-3 div.sk-estimator {font-family: monospace;background-color: #f0f8ff;border: 1px dotted black;border-radius: 0.25em;box-sizing: border-box;margin-bottom: 0.5em;}#sk-container-id-3 div.sk-estimator:hover {background-color: #d4ebff;}#sk-container-id-3 div.sk-parallel-item::after {content: \"\";width: 100%;border-bottom: 1px solid gray;flex-grow: 1;}#sk-container-id-3 div.sk-label:hover label.sk-toggleable__label {background-color: #d4ebff;}#sk-container-id-3 div.sk-serial::before {content: \"\";position: absolute;border-left: 1px solid gray;box-sizing: border-box;top: 0;bottom: 0;left: 50%;z-index: 0;}#sk-container-id-3 div.sk-serial {display: flex;flex-direction: column;align-items: center;background-color: white;padding-right: 0.2em;padding-left: 0.2em;position: relative;}#sk-container-id-3 div.sk-item {position: relative;z-index: 1;}#sk-container-id-3 div.sk-parallel {display: flex;align-items: stretch;justify-content: center;background-color: white;position: relative;}#sk-container-id-3 div.sk-item::before, #sk-container-id-3 div.sk-parallel-item::before {content: \"\";position: absolute;border-left: 1px solid gray;box-sizing: border-box;top: 0;bottom: 0;left: 50%;z-index: -1;}#sk-container-id-3 div.sk-parallel-item {display: flex;flex-direction: column;z-index: 1;position: relative;background-color: white;}#sk-container-id-3 div.sk-parallel-item:first-child::after {align-self: flex-end;width: 50%;}#sk-container-id-3 div.sk-parallel-item:last-child::after {align-self: flex-start;width: 50%;}#sk-container-id-3 div.sk-parallel-item:only-child::after {width: 0;}#sk-container-id-3 div.sk-dashed-wrapped {border: 1px dashed gray;margin: 0 0.4em 0.5em 0.4em;box-sizing: border-box;padding-bottom: 0.4em;background-color: white;}#sk-container-id-3 div.sk-label label {font-family: monospace;font-weight: bold;display: inline-block;line-height: 1.2em;}#sk-container-id-3 div.sk-label-container {text-align: center;}#sk-container-id-3 div.sk-container {/* jupyter's `normalize.less` sets `[hidden] { display: none; }` but bootstrap.min.css set `[hidden] { display: none !important; }` so we also need the `!important` here to be able to override the default hidden behavior on the sphinx rendered scikit-learn.org. See: https://github.com/scikit-learn/scikit-learn/issues/21755 */display: inline-block !important;position: relative;}#sk-container-id-3 div.sk-text-repr-fallback {display: none;}</style><div id=\"sk-container-id-3\" class=\"sk-top-container\"><div class=\"sk-text-repr-fallback\"><pre>GridSearchCV(cv=4, estimator=RandomForestRegressor(random_state=42),\n",
       "             param_grid={&#x27;max_depth&#x27;: [16], &#x27;n_estimators&#x27;: [5000]},\n",
       "             scoring=&#x27;neg_root_mean_squared_error&#x27;, verbose=2)</pre><b>In a Jupyter environment, please rerun this cell to show the HTML representation or trust the notebook. <br />On GitHub, the HTML representation is unable to render, please try loading this page with nbviewer.org.</b></div><div class=\"sk-container\" hidden><div class=\"sk-item sk-dashed-wrapped\"><div class=\"sk-label-container\"><div class=\"sk-label sk-toggleable\"><input class=\"sk-toggleable__control sk-hidden--visually\" id=\"sk-estimator-id-7\" type=\"checkbox\" ><label for=\"sk-estimator-id-7\" class=\"sk-toggleable__label sk-toggleable__label-arrow\">GridSearchCV</label><div class=\"sk-toggleable__content\"><pre>GridSearchCV(cv=4, estimator=RandomForestRegressor(random_state=42),\n",
       "             param_grid={&#x27;max_depth&#x27;: [16], &#x27;n_estimators&#x27;: [5000]},\n",
       "             scoring=&#x27;neg_root_mean_squared_error&#x27;, verbose=2)</pre></div></div></div><div class=\"sk-parallel\"><div class=\"sk-parallel-item\"><div class=\"sk-item\"><div class=\"sk-label-container\"><div class=\"sk-label sk-toggleable\"><input class=\"sk-toggleable__control sk-hidden--visually\" id=\"sk-estimator-id-8\" type=\"checkbox\" ><label for=\"sk-estimator-id-8\" class=\"sk-toggleable__label sk-toggleable__label-arrow\">estimator: RandomForestRegressor</label><div class=\"sk-toggleable__content\"><pre>RandomForestRegressor(random_state=42)</pre></div></div></div><div class=\"sk-serial\"><div class=\"sk-item\"><div class=\"sk-estimator sk-toggleable\"><input class=\"sk-toggleable__control sk-hidden--visually\" id=\"sk-estimator-id-9\" type=\"checkbox\" ><label for=\"sk-estimator-id-9\" class=\"sk-toggleable__label sk-toggleable__label-arrow\">RandomForestRegressor</label><div class=\"sk-toggleable__content\"><pre>RandomForestRegressor(random_state=42)</pre></div></div></div></div></div></div></div></div></div></div>"
      ],
      "text/plain": [
       "GridSearchCV(cv=4, estimator=RandomForestRegressor(random_state=42),\n",
       "             param_grid={'max_depth': [16], 'n_estimators': [5000]},\n",
       "             scoring='neg_root_mean_squared_error', verbose=2)"
      ]
     },
     "execution_count": 529,
     "metadata": {},
     "output_type": "execute_result"
    }
   ],
   "source": [
    "rf_cv.fit(Xt,yt)"
   ]
  },
  {
   "cell_type": "code",
   "execution_count": 530,
   "metadata": {},
   "outputs": [
    {
     "data": {
      "text/plain": [
       "array([-22282.81378228])"
      ]
     },
     "execution_count": 530,
     "metadata": {},
     "output_type": "execute_result"
    }
   ],
   "source": [
    "rf_cv.cv_results_['mean_test_score']"
   ]
  },
  {
   "cell_type": "markdown",
   "metadata": {},
   "source": [
    "#### The random forest doesn't perform nearly as well as the initial CatBoost regressor."
   ]
  },
  {
   "cell_type": "code",
   "execution_count": 525,
   "metadata": {},
   "outputs": [
    {
     "data": {
      "text/plain": [
       "{'max_depth': 16, 'n_estimators': 2000}"
      ]
     },
     "execution_count": 525,
     "metadata": {},
     "output_type": "execute_result"
    }
   ],
   "source": [
    "rf_cv.best_params_"
   ]
  },
  {
   "cell_type": "markdown",
   "metadata": {},
   "source": [
    "#### Next, I will try XGBoost"
   ]
  },
  {
   "cell_type": "code",
   "execution_count": 537,
   "metadata": {},
   "outputs": [],
   "source": [
    "xgb_params = {\n",
    "    'max_depth': [3,5,7],\n",
    "    'learning_rate': [0.01,0.025,0.05],\n",
    "    'min_child_weight': [1,2]\n",
    "}"
   ]
  },
  {
   "cell_type": "code",
   "execution_count": 540,
   "metadata": {},
   "outputs": [],
   "source": [
    "xgb = XGBRegressor(n_estimators=10000,random_state=42)"
   ]
  },
  {
   "cell_type": "code",
   "execution_count": 541,
   "metadata": {},
   "outputs": [],
   "source": [
    "xgb_cv = GridSearchCV(xgb,param_grid=xgb_params,cv=4,verbose=2,refit=True,scoring='neg_root_mean_squared_error')"
   ]
  },
  {
   "cell_type": "code",
   "execution_count": 542,
   "metadata": {},
   "outputs": [
    {
     "name": "stdout",
     "output_type": "stream",
     "text": [
      "Fitting 4 folds for each of 18 candidates, totalling 72 fits\n",
      "[CV] END learning_rate=0.01, max_depth=3, min_child_weight=1; total time=  14.5s\n",
      "[CV] END learning_rate=0.01, max_depth=3, min_child_weight=1; total time=  23.7s\n",
      "[CV] END learning_rate=0.01, max_depth=3, min_child_weight=1; total time=  21.1s\n",
      "[CV] END learning_rate=0.01, max_depth=3, min_child_weight=1; total time=  23.0s\n",
      "[CV] END learning_rate=0.01, max_depth=3, min_child_weight=2; total time=  19.7s\n",
      "[CV] END learning_rate=0.01, max_depth=3, min_child_weight=2; total time=  19.9s\n",
      "[CV] END learning_rate=0.01, max_depth=3, min_child_weight=2; total time=  19.0s\n",
      "[CV] END learning_rate=0.01, max_depth=3, min_child_weight=2; total time=  19.1s\n",
      "[CV] END learning_rate=0.01, max_depth=5, min_child_weight=1; total time=  31.3s\n",
      "[CV] END learning_rate=0.01, max_depth=5, min_child_weight=1; total time=  34.9s\n",
      "[CV] END learning_rate=0.01, max_depth=5, min_child_weight=1; total time=  31.9s\n",
      "[CV] END learning_rate=0.01, max_depth=5, min_child_weight=1; total time=  31.2s\n",
      "[CV] END learning_rate=0.01, max_depth=5, min_child_weight=2; total time=  30.9s\n",
      "[CV] END learning_rate=0.01, max_depth=5, min_child_weight=2; total time=  30.9s\n",
      "[CV] END learning_rate=0.01, max_depth=5, min_child_weight=2; total time=  33.1s\n",
      "[CV] END learning_rate=0.01, max_depth=5, min_child_weight=2; total time=  31.2s\n",
      "[CV] END learning_rate=0.01, max_depth=7, min_child_weight=1; total time=  32.4s\n",
      "[CV] END learning_rate=0.01, max_depth=7, min_child_weight=1; total time=  34.3s\n",
      "[CV] END learning_rate=0.01, max_depth=7, min_child_weight=1; total time=  35.4s\n",
      "[CV] END learning_rate=0.01, max_depth=7, min_child_weight=1; total time=  36.9s\n",
      "[CV] END learning_rate=0.01, max_depth=7, min_child_weight=2; total time=  42.2s\n",
      "[CV] END learning_rate=0.01, max_depth=7, min_child_weight=2; total time=  36.8s\n",
      "[CV] END learning_rate=0.01, max_depth=7, min_child_weight=2; total time=  33.8s\n",
      "[CV] END learning_rate=0.01, max_depth=7, min_child_weight=2; total time=  36.9s\n",
      "[CV] END learning_rate=0.025, max_depth=3, min_child_weight=1; total time=  19.4s\n",
      "[CV] END learning_rate=0.025, max_depth=3, min_child_weight=1; total time=  19.7s\n",
      "[CV] END learning_rate=0.025, max_depth=3, min_child_weight=1; total time=  19.3s\n",
      "[CV] END learning_rate=0.025, max_depth=3, min_child_weight=1; total time=  19.2s\n",
      "[CV] END learning_rate=0.025, max_depth=3, min_child_weight=2; total time=  19.1s\n",
      "[CV] END learning_rate=0.025, max_depth=3, min_child_weight=2; total time=  19.1s\n",
      "[CV] END learning_rate=0.025, max_depth=3, min_child_weight=2; total time=  21.4s\n",
      "[CV] END learning_rate=0.025, max_depth=3, min_child_weight=2; total time=  19.2s\n",
      "[CV] END learning_rate=0.025, max_depth=5, min_child_weight=1; total time=  22.5s\n",
      "[CV] END learning_rate=0.025, max_depth=5, min_child_weight=1; total time=  22.2s\n",
      "[CV] END learning_rate=0.025, max_depth=5, min_child_weight=1; total time=  23.0s\n",
      "[CV] END learning_rate=0.025, max_depth=5, min_child_weight=1; total time=  21.5s\n",
      "[CV] END learning_rate=0.025, max_depth=5, min_child_weight=2; total time=  22.2s\n",
      "[CV] END learning_rate=0.025, max_depth=5, min_child_weight=2; total time=  24.0s\n",
      "[CV] END learning_rate=0.025, max_depth=5, min_child_weight=2; total time=  23.0s\n",
      "[CV] END learning_rate=0.025, max_depth=5, min_child_weight=2; total time=  22.2s\n",
      "[CV] END learning_rate=0.025, max_depth=7, min_child_weight=1; total time=  18.7s\n",
      "[CV] END learning_rate=0.025, max_depth=7, min_child_weight=1; total time=  18.8s\n",
      "[CV] END learning_rate=0.025, max_depth=7, min_child_weight=1; total time=  19.2s\n",
      "[CV] END learning_rate=0.025, max_depth=7, min_child_weight=1; total time=  18.0s\n",
      "[CV] END learning_rate=0.025, max_depth=7, min_child_weight=2; total time=  17.7s\n",
      "[CV] END learning_rate=0.025, max_depth=7, min_child_weight=2; total time=  18.6s\n",
      "[CV] END learning_rate=0.025, max_depth=7, min_child_weight=2; total time=  17.6s\n",
      "[CV] END learning_rate=0.025, max_depth=7, min_child_weight=2; total time=  18.3s\n",
      "[CV] END learning_rate=0.05, max_depth=3, min_child_weight=1; total time=  19.3s\n",
      "[CV] END learning_rate=0.05, max_depth=3, min_child_weight=1; total time=  19.2s\n",
      "[CV] END learning_rate=0.05, max_depth=3, min_child_weight=1; total time=  19.4s\n",
      "[CV] END learning_rate=0.05, max_depth=3, min_child_weight=1; total time=  21.0s\n",
      "[CV] END learning_rate=0.05, max_depth=3, min_child_weight=2; total time=  23.4s\n",
      "[CV] END learning_rate=0.05, max_depth=3, min_child_weight=2; total time=  23.4s\n",
      "[CV] END learning_rate=0.05, max_depth=3, min_child_weight=2; total time=  21.1s\n",
      "[CV] END learning_rate=0.05, max_depth=3, min_child_weight=2; total time=  22.4s\n",
      "[CV] END learning_rate=0.05, max_depth=5, min_child_weight=1; total time=  17.5s\n",
      "[CV] END learning_rate=0.05, max_depth=5, min_child_weight=1; total time=  16.3s\n",
      "[CV] END learning_rate=0.05, max_depth=5, min_child_weight=1; total time=  17.5s\n",
      "[CV] END learning_rate=0.05, max_depth=5, min_child_weight=1; total time=  16.0s\n",
      "[CV] END learning_rate=0.05, max_depth=5, min_child_weight=2; total time=  16.8s\n",
      "[CV] END learning_rate=0.05, max_depth=5, min_child_weight=2; total time=  16.2s\n",
      "[CV] END learning_rate=0.05, max_depth=5, min_child_weight=2; total time=  16.0s\n",
      "[CV] END learning_rate=0.05, max_depth=5, min_child_weight=2; total time=  16.0s\n",
      "[CV] END learning_rate=0.05, max_depth=7, min_child_weight=1; total time=  14.1s\n",
      "[CV] END learning_rate=0.05, max_depth=7, min_child_weight=1; total time=  13.8s\n",
      "[CV] END learning_rate=0.05, max_depth=7, min_child_weight=1; total time=  14.5s\n",
      "[CV] END learning_rate=0.05, max_depth=7, min_child_weight=1; total time=  16.0s\n",
      "[CV] END learning_rate=0.05, max_depth=7, min_child_weight=2; total time=  15.0s\n",
      "[CV] END learning_rate=0.05, max_depth=7, min_child_weight=2; total time=  14.0s\n",
      "[CV] END learning_rate=0.05, max_depth=7, min_child_weight=2; total time=  15.2s\n",
      "[CV] END learning_rate=0.05, max_depth=7, min_child_weight=2; total time=  15.2s\n"
     ]
    },
    {
     "data": {
      "text/html": [
       "<style>#sk-container-id-6 {color: black;background-color: white;}#sk-container-id-6 pre{padding: 0;}#sk-container-id-6 div.sk-toggleable {background-color: white;}#sk-container-id-6 label.sk-toggleable__label {cursor: pointer;display: block;width: 100%;margin-bottom: 0;padding: 0.3em;box-sizing: border-box;text-align: center;}#sk-container-id-6 label.sk-toggleable__label-arrow:before {content: \"▸\";float: left;margin-right: 0.25em;color: #696969;}#sk-container-id-6 label.sk-toggleable__label-arrow:hover:before {color: black;}#sk-container-id-6 div.sk-estimator:hover label.sk-toggleable__label-arrow:before {color: black;}#sk-container-id-6 div.sk-toggleable__content {max-height: 0;max-width: 0;overflow: hidden;text-align: left;background-color: #f0f8ff;}#sk-container-id-6 div.sk-toggleable__content pre {margin: 0.2em;color: black;border-radius: 0.25em;background-color: #f0f8ff;}#sk-container-id-6 input.sk-toggleable__control:checked~div.sk-toggleable__content {max-height: 200px;max-width: 100%;overflow: auto;}#sk-container-id-6 input.sk-toggleable__control:checked~label.sk-toggleable__label-arrow:before {content: \"▾\";}#sk-container-id-6 div.sk-estimator input.sk-toggleable__control:checked~label.sk-toggleable__label {background-color: #d4ebff;}#sk-container-id-6 div.sk-label input.sk-toggleable__control:checked~label.sk-toggleable__label {background-color: #d4ebff;}#sk-container-id-6 input.sk-hidden--visually {border: 0;clip: rect(1px 1px 1px 1px);clip: rect(1px, 1px, 1px, 1px);height: 1px;margin: -1px;overflow: hidden;padding: 0;position: absolute;width: 1px;}#sk-container-id-6 div.sk-estimator {font-family: monospace;background-color: #f0f8ff;border: 1px dotted black;border-radius: 0.25em;box-sizing: border-box;margin-bottom: 0.5em;}#sk-container-id-6 div.sk-estimator:hover {background-color: #d4ebff;}#sk-container-id-6 div.sk-parallel-item::after {content: \"\";width: 100%;border-bottom: 1px solid gray;flex-grow: 1;}#sk-container-id-6 div.sk-label:hover label.sk-toggleable__label {background-color: #d4ebff;}#sk-container-id-6 div.sk-serial::before {content: \"\";position: absolute;border-left: 1px solid gray;box-sizing: border-box;top: 0;bottom: 0;left: 50%;z-index: 0;}#sk-container-id-6 div.sk-serial {display: flex;flex-direction: column;align-items: center;background-color: white;padding-right: 0.2em;padding-left: 0.2em;position: relative;}#sk-container-id-6 div.sk-item {position: relative;z-index: 1;}#sk-container-id-6 div.sk-parallel {display: flex;align-items: stretch;justify-content: center;background-color: white;position: relative;}#sk-container-id-6 div.sk-item::before, #sk-container-id-6 div.sk-parallel-item::before {content: \"\";position: absolute;border-left: 1px solid gray;box-sizing: border-box;top: 0;bottom: 0;left: 50%;z-index: -1;}#sk-container-id-6 div.sk-parallel-item {display: flex;flex-direction: column;z-index: 1;position: relative;background-color: white;}#sk-container-id-6 div.sk-parallel-item:first-child::after {align-self: flex-end;width: 50%;}#sk-container-id-6 div.sk-parallel-item:last-child::after {align-self: flex-start;width: 50%;}#sk-container-id-6 div.sk-parallel-item:only-child::after {width: 0;}#sk-container-id-6 div.sk-dashed-wrapped {border: 1px dashed gray;margin: 0 0.4em 0.5em 0.4em;box-sizing: border-box;padding-bottom: 0.4em;background-color: white;}#sk-container-id-6 div.sk-label label {font-family: monospace;font-weight: bold;display: inline-block;line-height: 1.2em;}#sk-container-id-6 div.sk-label-container {text-align: center;}#sk-container-id-6 div.sk-container {/* jupyter's `normalize.less` sets `[hidden] { display: none; }` but bootstrap.min.css set `[hidden] { display: none !important; }` so we also need the `!important` here to be able to override the default hidden behavior on the sphinx rendered scikit-learn.org. See: https://github.com/scikit-learn/scikit-learn/issues/21755 */display: inline-block !important;position: relative;}#sk-container-id-6 div.sk-text-repr-fallback {display: none;}</style><div id=\"sk-container-id-6\" class=\"sk-top-container\"><div class=\"sk-text-repr-fallback\"><pre>GridSearchCV(cv=4,\n",
       "             estimator=XGBRegressor(base_score=None, booster=None,\n",
       "                                    colsample_bylevel=None,\n",
       "                                    colsample_bynode=None,\n",
       "                                    colsample_bytree=None, gamma=None,\n",
       "                                    gpu_id=None, importance_type=&#x27;gain&#x27;,\n",
       "                                    interaction_constraints=None,\n",
       "                                    learning_rate=0.02, max_delta_step=None,\n",
       "                                    max_depth=5, min_child_weight=2,\n",
       "                                    missing=nan, monotone_constraints=None,\n",
       "                                    n_estimators=10000, n_jobs=None,\n",
       "                                    num_parallel_tree=None, random_state=42,\n",
       "                                    reg_alpha=100, reg_lambda=1,\n",
       "                                    scale_pos_weight=None, subsample=None,\n",
       "                                    tree_method=None, validate_parameters=None,\n",
       "                                    verbosity=None),\n",
       "             param_grid={&#x27;learning_rate&#x27;: [0.01, 0.025, 0.05],\n",
       "                         &#x27;max_depth&#x27;: [3, 5, 7], &#x27;min_child_weight&#x27;: [1, 2]},\n",
       "             scoring=&#x27;neg_root_mean_squared_error&#x27;, verbose=2)</pre><b>In a Jupyter environment, please rerun this cell to show the HTML representation or trust the notebook. <br />On GitHub, the HTML representation is unable to render, please try loading this page with nbviewer.org.</b></div><div class=\"sk-container\" hidden><div class=\"sk-item sk-dashed-wrapped\"><div class=\"sk-label-container\"><div class=\"sk-label sk-toggleable\"><input class=\"sk-toggleable__control sk-hidden--visually\" id=\"sk-estimator-id-16\" type=\"checkbox\" ><label for=\"sk-estimator-id-16\" class=\"sk-toggleable__label sk-toggleable__label-arrow\">GridSearchCV</label><div class=\"sk-toggleable__content\"><pre>GridSearchCV(cv=4,\n",
       "             estimator=XGBRegressor(base_score=None, booster=None,\n",
       "                                    colsample_bylevel=None,\n",
       "                                    colsample_bynode=None,\n",
       "                                    colsample_bytree=None, gamma=None,\n",
       "                                    gpu_id=None, importance_type=&#x27;gain&#x27;,\n",
       "                                    interaction_constraints=None,\n",
       "                                    learning_rate=0.02, max_delta_step=None,\n",
       "                                    max_depth=5, min_child_weight=2,\n",
       "                                    missing=nan, monotone_constraints=None,\n",
       "                                    n_estimators=10000, n_jobs=None,\n",
       "                                    num_parallel_tree=None, random_state=42,\n",
       "                                    reg_alpha=100, reg_lambda=1,\n",
       "                                    scale_pos_weight=None, subsample=None,\n",
       "                                    tree_method=None, validate_parameters=None,\n",
       "                                    verbosity=None),\n",
       "             param_grid={&#x27;learning_rate&#x27;: [0.01, 0.025, 0.05],\n",
       "                         &#x27;max_depth&#x27;: [3, 5, 7], &#x27;min_child_weight&#x27;: [1, 2]},\n",
       "             scoring=&#x27;neg_root_mean_squared_error&#x27;, verbose=2)</pre></div></div></div><div class=\"sk-parallel\"><div class=\"sk-parallel-item\"><div class=\"sk-item\"><div class=\"sk-label-container\"><div class=\"sk-label sk-toggleable\"><input class=\"sk-toggleable__control sk-hidden--visually\" id=\"sk-estimator-id-17\" type=\"checkbox\" ><label for=\"sk-estimator-id-17\" class=\"sk-toggleable__label sk-toggleable__label-arrow\">estimator: XGBRegressor</label><div class=\"sk-toggleable__content\"><pre>XGBRegressor(base_score=None, booster=None, colsample_bylevel=None,\n",
       "             colsample_bynode=None, colsample_bytree=None, gamma=None,\n",
       "             gpu_id=None, importance_type=&#x27;gain&#x27;, interaction_constraints=None,\n",
       "             learning_rate=0.02, max_delta_step=None, max_depth=5,\n",
       "             min_child_weight=2, missing=nan, monotone_constraints=None,\n",
       "             n_estimators=10000, n_jobs=None, num_parallel_tree=None,\n",
       "             random_state=42, reg_alpha=100, reg_lambda=1,\n",
       "             scale_pos_weight=None, subsample=None, tree_method=None,\n",
       "             validate_parameters=None, verbosity=None)</pre></div></div></div><div class=\"sk-serial\"><div class=\"sk-item\"><div class=\"sk-estimator sk-toggleable\"><input class=\"sk-toggleable__control sk-hidden--visually\" id=\"sk-estimator-id-18\" type=\"checkbox\" ><label for=\"sk-estimator-id-18\" class=\"sk-toggleable__label sk-toggleable__label-arrow\">XGBRegressor</label><div class=\"sk-toggleable__content\"><pre>XGBRegressor(base_score=None, booster=None, colsample_bylevel=None,\n",
       "             colsample_bynode=None, colsample_bytree=None, gamma=None,\n",
       "             gpu_id=None, importance_type=&#x27;gain&#x27;, interaction_constraints=None,\n",
       "             learning_rate=0.02, max_delta_step=None, max_depth=5,\n",
       "             min_child_weight=2, missing=nan, monotone_constraints=None,\n",
       "             n_estimators=10000, n_jobs=None, num_parallel_tree=None,\n",
       "             random_state=42, reg_alpha=100, reg_lambda=1,\n",
       "             scale_pos_weight=None, subsample=None, tree_method=None,\n",
       "             validate_parameters=None, verbosity=None)</pre></div></div></div></div></div></div></div></div></div></div>"
      ],
      "text/plain": [
       "GridSearchCV(cv=4,\n",
       "             estimator=XGBRegressor(base_score=None, booster=None,\n",
       "                                    colsample_bylevel=None,\n",
       "                                    colsample_bynode=None,\n",
       "                                    colsample_bytree=None, gamma=None,\n",
       "                                    gpu_id=None, importance_type='gain',\n",
       "                                    interaction_constraints=None,\n",
       "                                    learning_rate=0.02, max_delta_step=None,\n",
       "                                    max_depth=5, min_child_weight=2,\n",
       "                                    missing=nan, monotone_constraints=None,\n",
       "                                    n_estimators=10000, n_jobs=None,\n",
       "                                    num_parallel_tree=None, random_state=42,\n",
       "                                    reg_alpha=100, reg_lambda=1,\n",
       "                                    scale_pos_weight=None, subsample=None,\n",
       "                                    tree_method=None, validate_parameters=None,\n",
       "                                    verbosity=None),\n",
       "             param_grid={'learning_rate': [0.01, 0.025, 0.05],\n",
       "                         'max_depth': [3, 5, 7], 'min_child_weight': [1, 2]},\n",
       "             scoring='neg_root_mean_squared_error', verbose=2)"
      ]
     },
     "execution_count": 542,
     "metadata": {},
     "output_type": "execute_result"
    }
   ],
   "source": [
    "xgb_cv.fit(Xt,yt)"
   ]
  },
  {
   "cell_type": "code",
   "execution_count": 543,
   "metadata": {},
   "outputs": [
    {
     "data": {
      "text/plain": [
       "array([-19244.30269429, -19106.19710736, -20539.42491193, -20318.83175196,\n",
       "       -21418.25055293, -20916.68032895, -19247.91581876, -19338.8315725 ,\n",
       "       -20493.25745995, -20268.90223058, -21322.22356029, -20870.32400986,\n",
       "       -19412.48419019, -19080.27711073, -20393.29712386, -20350.12064422,\n",
       "       -21471.87134242, -21088.46912331])"
      ]
     },
     "execution_count": 543,
     "metadata": {},
     "output_type": "execute_result"
    }
   ],
   "source": [
    "xgb_cv.cv_results_['mean_test_score']"
   ]
  },
  {
   "cell_type": "markdown",
   "metadata": {},
   "source": [
    "#### I use the best parameters found from the grid search, and apply the model with early stopping:"
   ]
  },
  {
   "cell_type": "code",
   "execution_count": 544,
   "metadata": {},
   "outputs": [
    {
     "data": {
      "text/plain": [
       "{'learning_rate': 0.05, 'max_depth': 3, 'min_child_weight': 2}"
      ]
     },
     "execution_count": 544,
     "metadata": {},
     "output_type": "execute_result"
    }
   ],
   "source": [
    "xgb_cv.best_params_"
   ]
  },
  {
   "cell_type": "code",
   "execution_count": 545,
   "metadata": {},
   "outputs": [],
   "source": [
    "xgb_selected = XGBRegressor(n_estimators=20000,learning_rate=0.05,max_depth=3,min_child_weight=2,random_state=42)"
   ]
  },
  {
   "cell_type": "code",
   "execution_count": 550,
   "metadata": {},
   "outputs": [],
   "source": [
    "X,Xv,y,yv = train_test_split(Xt,yt,test_size=0.25,random_state=42)"
   ]
  },
  {
   "cell_type": "code",
   "execution_count": 551,
   "metadata": {},
   "outputs": [
    {
     "data": {
      "text/plain": [
       "(1081, 1)"
      ]
     },
     "execution_count": 551,
     "metadata": {},
     "output_type": "execute_result"
    }
   ],
   "source": [
    "y.shape"
   ]
  },
  {
   "cell_type": "code",
   "execution_count": null,
   "metadata": {},
   "outputs": [],
   "source": [
    "xgb_selected.fit(X, y, eval_set=[(X, y), (Xv, yv)], early_stopping_rounds=200) "
   ]
  },
  {
   "cell_type": "markdown",
   "metadata": {},
   "source": [
    "#### Validation score is around 17,000, which is a good score but not as low as CatBoost"
   ]
  },
  {
   "cell_type": "markdown",
   "metadata": {},
   "source": [
    "#### Now I perform grid search using the CatBoost regressor:"
   ]
  },
  {
   "cell_type": "code",
   "execution_count": 554,
   "metadata": {},
   "outputs": [],
   "source": [
    "cb = CatBoostRegressor(verbose=0,random_state=42)"
   ]
  },
  {
   "cell_type": "code",
   "execution_count": 555,
   "metadata": {},
   "outputs": [],
   "source": [
    "cb_params = {\n",
    "    'iterations': [5000,10000],\n",
    "    'max_depth': [3,4,5],\n",
    "    'learning_rate': [0.005,0.01,0.025],\n",
    "    'l2_leaf_reg': [1,3]\n",
    "}"
   ]
  },
  {
   "cell_type": "code",
   "execution_count": 558,
   "metadata": {},
   "outputs": [],
   "source": [
    "cb_cv = GridSearchCV(cb,param_grid=cb_params,cv=4,verbose=2,refit=True,scoring='neg_root_mean_squared_error')"
   ]
  },
  {
   "cell_type": "code",
   "execution_count": null,
   "metadata": {},
   "outputs": [],
   "source": [
    "cb_cv.fit(Xt,yt)"
   ]
  },
  {
   "cell_type": "code",
   "execution_count": 560,
   "metadata": {},
   "outputs": [
    {
     "data": {
      "text/plain": [
       "array([-18270.77378971, -18116.69007404, -18138.91362021, -18066.70719205,\n",
       "       -18030.80491818, -18171.63735918, -18319.64978081, -18132.19054064,\n",
       "       -18311.98920678, -18472.07020713, -18252.50041197, -18207.01950656,\n",
       "       -18166.33729826, -18156.45127519, -18083.78402668, -18262.05653048,\n",
       "       -18291.44977362, -18296.54223249, -18070.62939298, -18053.11755852,\n",
       "       -18109.81504983, -18168.95066476, -18115.69405783, -18231.94287808,\n",
       "       -18466.88447944, -18194.39180761, -18341.34123634, -18105.74976306,\n",
       "       -18131.09789362, -18135.41851174, -18213.93886082, -18241.52416135,\n",
       "       -18155.16184412, -18392.83451298, -18395.14600339, -18337.85666651])"
      ]
     },
     "execution_count": 560,
     "metadata": {},
     "output_type": "execute_result"
    }
   ],
   "source": [
    "cb_cv.cv_results_['mean_test_score']"
   ]
  },
  {
   "cell_type": "markdown",
   "metadata": {},
   "source": [
    "#### I identify the best parameters and train a model with them using early stopping. This provides the best RMSE so far."
   ]
  },
  {
   "cell_type": "code",
   "execution_count": 561,
   "metadata": {},
   "outputs": [
    {
     "data": {
      "text/plain": [
       "{'iterations': 5000, 'l2_leaf_reg': 1, 'learning_rate': 0.01, 'max_depth': 4}"
      ]
     },
     "execution_count": 561,
     "metadata": {},
     "output_type": "execute_result"
    }
   ],
   "source": [
    "cb_cv.best_params_"
   ]
  },
  {
   "cell_type": "code",
   "execution_count": 563,
   "metadata": {},
   "outputs": [],
   "source": [
    "cb_selected = CatBoostRegressor(iterations=20000,learning_rate=0.01,max_depth=4,l2_leaf_reg=1,random_state=42,od_wait=250)"
   ]
  },
  {
   "cell_type": "code",
   "execution_count": null,
   "metadata": {},
   "outputs": [],
   "source": [
    "cb_selected.fit(X, y, eval_set=(Xv, yv))"
   ]
  },
  {
   "cell_type": "markdown",
   "metadata": {},
   "source": [
    "#### Test set evaluation is on Kaggle, and uses RMSLE as the metric. CatBoostRegressor doesn't have native support for RMSLE as an evaluation metric, so I write a class that is compatible with CatBoost:"
   ]
  },
  {
   "cell_type": "code",
   "execution_count": 562,
   "metadata": {},
   "outputs": [],
   "source": [
    "class CatBoostEvalMetricRMSLE(object):\n",
    "    def get_final_error(self, error, weight):\n",
    "        return error\n",
    "\n",
    "    def is_max_optimal(self):\n",
    "        # the larger metric value the better\n",
    "        return False\n",
    "\n",
    "    def evaluate(self, approxes, target, weight):\n",
    "        assert len(approxes) == 1\n",
    "        assert len(target) == len(approxes[0])\n",
    "        preds = np.array(approxes[0])\n",
    "        target = np.array(target)\n",
    "        score = np.sqrt(mean_squared_log_error(target,preds))\n",
    "        return score, 0"
   ]
  },
  {
   "cell_type": "code",
   "execution_count": 566,
   "metadata": {},
   "outputs": [],
   "source": [
    "cb_selected_RMSLE = CatBoostRegressor(iterations=20000,learning_rate=0.01,max_depth=4,l2_leaf_reg=1,random_state=42,\n",
    "                                     eval_metric=CatBoostEvalMetricRMSLE(),od_wait=250)"
   ]
  },
  {
   "cell_type": "code",
   "execution_count": null,
   "metadata": {},
   "outputs": [],
   "source": [
    "cb_selected_RMSLE.fit(X, y, eval_set=(Xv, yv))"
   ]
  },
  {
   "cell_type": "markdown",
   "metadata": {},
   "source": [
    "#### I train the final model with the suggested number of iterations on the entire training set:"
   ]
  },
  {
   "cell_type": "code",
   "execution_count": 568,
   "metadata": {},
   "outputs": [],
   "source": [
    "cb_final = CatBoostRegressor(iterations=4500,learning_rate=0.01,max_depth=4,l2_leaf_reg=1,random_state=42)"
   ]
  },
  {
   "cell_type": "code",
   "execution_count": null,
   "metadata": {},
   "outputs": [],
   "source": [
    "cb_final.fit(Xt,yt)"
   ]
  },
  {
   "cell_type": "code",
   "execution_count": 571,
   "metadata": {},
   "outputs": [],
   "source": [
    "predictions = cb_final.predict(Xtest)"
   ]
  },
  {
   "cell_type": "code",
   "execution_count": 572,
   "metadata": {},
   "outputs": [],
   "source": [
    "predictions_series = pd.Series(predictions,index=test_data.Id,name='SalePrice')"
   ]
  },
  {
   "cell_type": "code",
   "execution_count": 573,
   "metadata": {},
   "outputs": [],
   "source": [
    "predictions_series.to_csv('predictions_cb.csv')"
   ]
  },
  {
   "cell_type": "markdown",
   "metadata": {},
   "source": [
    "#### Finally, I arrive at the predictions for the test set, and sav them to a .csv."
   ]
  },
  {
   "cell_type": "code",
   "execution_count": 574,
   "metadata": {},
   "outputs": [
    {
     "data": {
      "text/plain": [
       "Id\n",
       "1461    120775.387036\n",
       "1462    164292.758716\n",
       "1463    181141.063972\n",
       "1464    191234.660963\n",
       "1465    184955.693724\n",
       "Name: SalePrice, dtype: float64"
      ]
     },
     "execution_count": 574,
     "metadata": {},
     "output_type": "execute_result"
    }
   ],
   "source": [
    "predictions_series.head()"
   ]
  },
  {
   "cell_type": "markdown",
   "metadata": {},
   "source": [
    "#### These predictions resulted in a test RMSLE of approximately 0.126, which is a fairly good performance, though disappointingly higher than the validation RMSLE. However, the training set and the test set have the same amount of data, so it's probably to be expected that test performance won't be as high as validation."
   ]
  },
  {
   "cell_type": "code",
   "execution_count": null,
   "metadata": {},
   "outputs": [],
   "source": []
  }
 ],
 "metadata": {
  "kernelspec": {
   "display_name": "Python 3 (ipykernel)",
   "language": "python",
   "name": "python3"
  },
  "language_info": {
   "codemirror_mode": {
    "name": "ipython",
    "version": 3
   },
   "file_extension": ".py",
   "mimetype": "text/x-python",
   "name": "python",
   "nbconvert_exporter": "python",
   "pygments_lexer": "ipython3",
   "version": "3.9.12"
  }
 },
 "nbformat": 4,
 "nbformat_minor": 4
}
